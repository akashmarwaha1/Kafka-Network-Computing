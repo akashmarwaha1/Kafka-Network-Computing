{
 "cells": [
  {
   "cell_type": "code",
   "execution_count": 1,
   "id": "4acbf929",
   "metadata": {},
   "outputs": [
    {
     "name": "stderr",
     "output_type": "stream",
     "text": [
      "WARNING: An illegal reflective access operation has occurred\n",
      "WARNING: Illegal reflective access by org.apache.spark.unsafe.Platform (file:/usr/local/spark-3.2.0-bin-hadoop3.2/jars/spark-unsafe_2.12-3.2.0.jar) to constructor java.nio.DirectByteBuffer(long,int)\n",
      "WARNING: Please consider reporting this to the maintainers of org.apache.spark.unsafe.Platform\n",
      "WARNING: Use --illegal-access=warn to enable warnings of further illegal reflective access operations\n",
      "WARNING: All illegal access operations will be denied in a future release\n",
      "Using Spark's default log4j profile: org/apache/spark/log4j-defaults.properties\n",
      "Setting default log level to \"WARN\".\n",
      "To adjust logging level use sc.setLogLevel(newLevel). For SparkR, use setLogLevel(newLevel).\n",
      "21/11/28 11:59:06 WARN NativeCodeLoader: Unable to load native-hadoop library for your platform... using builtin-java classes where applicable\n"
     ]
    }
   ],
   "source": [
    "from pyspark.sql import SparkSession\n",
    "spark = SparkSession.builder\\\n",
    "    .appName('Pyspark_MLlib').getOrCreate()"
   ]
  },
  {
   "cell_type": "code",
   "execution_count": 2,
   "id": "5972dcb0",
   "metadata": {},
   "outputs": [],
   "source": [
    "from pyspark.ml.clustering import KMeans\n",
    "import numpy as np\n",
    "import matplotlib.pyplot as plt\n",
    "import pandas as pd"
   ]
  },
  {
   "cell_type": "markdown",
   "id": "a6a7b5e2",
   "metadata": {},
   "source": [
    "# Importing the files here"
   ]
  },
  {
   "cell_type": "code",
   "execution_count": 191,
   "id": "7c677544",
   "metadata": {},
   "outputs": [
    {
     "name": "stderr",
     "output_type": "stream",
     "text": [
      "                                                                                \r"
     ]
    }
   ],
   "source": [
    "path='kafka_csv_data/*.csv'\n",
    "data =spark.read.csv(path, header = True, inferSchema= True)"
   ]
  },
  {
   "cell_type": "code",
   "execution_count": 4,
   "id": "d90b5a35",
   "metadata": {},
   "outputs": [],
   "source": [
    "# # Converting the string type to timestamp\n",
    "# #to_timestamp()\n",
    "# df2.select(col(\"input\"), \n",
    "#     to_timestamp(col(\"input\"), \"MM-dd-yyyy HH mm ss SSS\").alias(\"to_timestamp\") \n",
    "#   ).show(truncate=False)"
   ]
  },
  {
   "cell_type": "code",
   "execution_count": 5,
   "id": "cef6e40a",
   "metadata": {},
   "outputs": [
    {
     "name": "stdout",
     "output_type": "stream",
     "text": [
      "+--------------+--------+------------------+----------+-------------------+--------------+-----------------+------------+------------+------------+------------+------------------+---------------+--------------+----------------+------------------+------------+\n",
      "|Summons_Number|Plate_ID|Registration_State|Plate_Type|         Issue_Date|Violation_Code|Vehicle_Body_Type|Vehicle_Make|Street_Code1|Street_Code2|Street_Code3|Violation_Precinct|Issuer_Precinct|Violation_Time|Violation_County|       Street_Name|Vehicle_Year|\n",
      "+--------------+--------+------------------+----------+-------------------+--------------+-----------------+------------+------------+------------+------------+------------------+---------------+--------------+----------------+------------------+------------+\n",
      "|    1447152396| JET2661|                NY|       PAS|2019-06-28 00:00:00|            21|              SDN|         BMW|       27390|       36290|       36350|                26|             26|         1000A|              NY|      OLD BROADWAY|           0|\n",
      "|    1447152402| JCV6523|                NY|       PAS|2019-06-28 00:00:00|            20|              SDN|       TOYOT|       36290|       27390|       13113|                26|             26|         1011A|              NY|      W 126 STREET|           0|\n",
      "|    1447152554| GMK6954|                NY|       PAS|2019-06-16 00:00:00|            19|             SUBN|         BMW|       36270|       11710|       27390|                26|             26|         0107A|            null|          W 125 ST|        2019|\n",
      "|    1447152580| JGX1641|                NY|       PAS|2019-06-24 00:00:00|            19|              SDN|        AUDI|       36270|       11710|       27390|                26|             26|         0300A|            null|          W 125 ST|        2015|\n",
      "|    1447152724| GDM8069|                NY|       COM|2019-07-06 00:00:00|            48|             null|        null|       31190|       36310|       36330|                26|             26|         0653A|              NY|ST NICHOLAS AVENUE|           0|\n",
      "+--------------+--------+------------------+----------+-------------------+--------------+-----------------+------------+------------+------------+------------+------------------+---------------+--------------+----------------+------------------+------------+\n",
      "only showing top 5 rows\n",
      "\n"
     ]
    }
   ],
   "source": [
    "data.show(5)"
   ]
  },
  {
   "cell_type": "code",
   "execution_count": 111,
   "id": "1c49694f",
   "metadata": {},
   "outputs": [
    {
     "name": "stderr",
     "output_type": "stream",
     "text": [
      "                                                                                \r"
     ]
    },
    {
     "data": {
      "text/plain": [
       "65"
      ]
     },
     "execution_count": 111,
     "metadata": {},
     "output_type": "execute_result"
    }
   ],
   "source": [
    "# data.select('Registration_State').distinct().count()"
   ]
  },
  {
   "cell_type": "code",
   "execution_count": 6,
   "id": "ac1ea3ed",
   "metadata": {},
   "outputs": [
    {
     "name": "stdout",
     "output_type": "stream",
     "text": [
      "root\n",
      " |-- Summons_Number: long (nullable = true)\n",
      " |-- Plate_ID: string (nullable = true)\n",
      " |-- Registration_State: string (nullable = true)\n",
      " |-- Plate_Type: string (nullable = true)\n",
      " |-- Issue_Date: timestamp (nullable = true)\n",
      " |-- Violation_Code: integer (nullable = true)\n",
      " |-- Vehicle_Body_Type: string (nullable = true)\n",
      " |-- Vehicle_Make: string (nullable = true)\n",
      " |-- Street_Code1: integer (nullable = true)\n",
      " |-- Street_Code2: integer (nullable = true)\n",
      " |-- Street_Code3: integer (nullable = true)\n",
      " |-- Violation_Precinct: integer (nullable = true)\n",
      " |-- Issuer_Precinct: integer (nullable = true)\n",
      " |-- Violation_Time: string (nullable = true)\n",
      " |-- Violation_County: string (nullable = true)\n",
      " |-- Street_Name: string (nullable = true)\n",
      " |-- Vehicle_Year: integer (nullable = true)\n",
      "\n"
     ]
    }
   ],
   "source": [
    "data.printSchema()"
   ]
  },
  {
   "cell_type": "code",
   "execution_count": 7,
   "id": "1e3eb0c8",
   "metadata": {},
   "outputs": [
    {
     "name": "stderr",
     "output_type": "stream",
     "text": [
      "                                                                                \r"
     ]
    },
    {
     "data": {
      "text/plain": [
       "(806489, 17)"
      ]
     },
     "execution_count": 7,
     "metadata": {},
     "output_type": "execute_result"
    }
   ],
   "source": [
    "#  Getting the dimensions of the data at hand\n",
    "\n",
    "(data.count() ,len(data.columns))"
   ]
  },
  {
   "cell_type": "code",
   "execution_count": 8,
   "id": "c2fe32bf",
   "metadata": {},
   "outputs": [],
   "source": [
    "# data.describe()"
   ]
  },
  {
   "cell_type": "markdown",
   "id": "30bea150",
   "metadata": {},
   "source": [
    "## Adding new columns:\n",
    "### 'Day_of_Week' and 'Day_of_Month' to the data frame\n"
   ]
  },
  {
   "cell_type": "code",
   "execution_count": 9,
   "id": "144ab5c4",
   "metadata": {},
   "outputs": [],
   "source": [
    "newdf = data"
   ]
  },
  {
   "cell_type": "code",
   "execution_count": 10,
   "id": "df0bee84",
   "metadata": {},
   "outputs": [],
   "source": [
    "from pyspark.sql.functions import date_format\n",
    "from pyspark.sql.functions import dayofmonth,dayofweek\n",
    "\n",
    "newdf = newdf.withColumn('Day_of_Week', dayofweek(newdf.Issue_Date))\\\n",
    ".withColumn('Day_of_Month',dayofmonth(newdf.Issue_Date))"
   ]
  },
  {
   "cell_type": "code",
   "execution_count": 11,
   "id": "955f1999",
   "metadata": {},
   "outputs": [
    {
     "name": "stdout",
     "output_type": "stream",
     "text": [
      "+--------------+-------------------+------------+-----------+\n",
      "|Summons_Number|         Issue_Date|Day_of_Month|Day_of_Week|\n",
      "+--------------+-------------------+------------+-----------+\n",
      "|    1447152396|2019-06-28 00:00:00|          28|          6|\n",
      "|    1447152402|2019-06-28 00:00:00|          28|          6|\n",
      "|    1447152554|2019-06-16 00:00:00|          16|          1|\n",
      "|    1447152580|2019-06-24 00:00:00|          24|          2|\n",
      "|    1447152724|2019-07-06 00:00:00|           6|          7|\n",
      "+--------------+-------------------+------------+-----------+\n",
      "only showing top 5 rows\n",
      "\n"
     ]
    }
   ],
   "source": [
    "newdf.select('Summons_Number','Issue_Date','Day_of_Month','Day_of_Week').show(5)"
   ]
  },
  {
   "cell_type": "code",
   "execution_count": 12,
   "id": "d58e8fae",
   "metadata": {},
   "outputs": [
    {
     "name": "stdout",
     "output_type": "stream",
     "text": [
      "root\n",
      " |-- Summons_Number: long (nullable = true)\n",
      " |-- Plate_ID: string (nullable = true)\n",
      " |-- Registration_State: string (nullable = true)\n",
      " |-- Plate_Type: string (nullable = true)\n",
      " |-- Issue_Date: timestamp (nullable = true)\n",
      " |-- Violation_Code: integer (nullable = true)\n",
      " |-- Vehicle_Body_Type: string (nullable = true)\n",
      " |-- Vehicle_Make: string (nullable = true)\n",
      " |-- Street_Code1: integer (nullable = true)\n",
      " |-- Street_Code2: integer (nullable = true)\n",
      " |-- Street_Code3: integer (nullable = true)\n",
      " |-- Violation_Precinct: integer (nullable = true)\n",
      " |-- Issuer_Precinct: integer (nullable = true)\n",
      " |-- Violation_Time: string (nullable = true)\n",
      " |-- Violation_County: string (nullable = true)\n",
      " |-- Street_Name: string (nullable = true)\n",
      " |-- Vehicle_Year: integer (nullable = true)\n",
      " |-- Day_of_Week: integer (nullable = true)\n",
      " |-- Day_of_Month: integer (nullable = true)\n",
      "\n"
     ]
    }
   ],
   "source": [
    "newdf.printSchema()"
   ]
  },
  {
   "cell_type": "markdown",
   "id": "c5495ad2",
   "metadata": {},
   "source": [
    "# Trying to combine the latitude and longitude for each registration state using two dataframes"
   ]
  },
  {
   "cell_type": "code",
   "execution_count": 192,
   "id": "f9c43497",
   "metadata": {},
   "outputs": [],
   "source": [
    "path='state_data/*.csv'\n",
    "mapdata =spark.read.csv(path, header = True, inferSchema= True)"
   ]
  },
  {
   "cell_type": "code",
   "execution_count": 193,
   "id": "02039d91",
   "metadata": {},
   "outputs": [
    {
     "data": {
      "text/plain": [
       "['State', 'Latitude', 'Longitude', 'City']"
      ]
     },
     "execution_count": 193,
     "metadata": {},
     "output_type": "execute_result"
    }
   ],
   "source": [
    "mapdata.columns"
   ]
  },
  {
   "cell_type": "code",
   "execution_count": 105,
   "id": "a192e486",
   "metadata": {},
   "outputs": [
    {
     "data": {
      "text/plain": [
       "51"
      ]
     },
     "execution_count": 105,
     "metadata": {},
     "output_type": "execute_result"
    }
   ],
   "source": [
    "mapdata.select('City').distinct().count()"
   ]
  },
  {
   "cell_type": "code",
   "execution_count": 15,
   "id": "89bc522d",
   "metadata": {},
   "outputs": [],
   "source": [
    "# Combining two dataframes for Latitude and Longitude values.\n",
    "\n",
    "newdf = newdf.join(mapdata , newdf.Registration_State == mapdata.State)\n"
   ]
  },
  {
   "cell_type": "code",
   "execution_count": 16,
   "id": "70fbd84e",
   "metadata": {},
   "outputs": [],
   "source": [
    "newdf = newdf.drop('State')"
   ]
  },
  {
   "cell_type": "code",
   "execution_count": 17,
   "id": "187e47d7",
   "metadata": {},
   "outputs": [
    {
     "name": "stdout",
     "output_type": "stream",
     "text": [
      "+--------------+------------------+----------+-----------+------------+\n",
      "|Summons_Number|Registration_State|  Latitude|  Longitude|        City|\n",
      "+--------------+------------------+----------+-----------+------------+\n",
      "|    1447152396|                NY|40.7056258|  -73.97968|    New York|\n",
      "|    1447152402|                NY|40.7056258|  -73.97968|    New York|\n",
      "|    1447152554|                NY|40.7056258|  -73.97968|    New York|\n",
      "|    1447152580|                NY|40.7056258|  -73.97968|    New York|\n",
      "|    1447152724|                NY|40.7056258|  -73.97968|    New York|\n",
      "|    1447152992|                NY|40.7056258|  -73.97968|    New York|\n",
      "|    1447153315|                NY|40.7056258|  -73.97968|    New York|\n",
      "|    1447153327|                NY|40.7056258|  -73.97968|    New York|\n",
      "|    1447153340|                NY|40.7056258|  -73.97968|    New York|\n",
      "|    1447153352|                ME|45.2185133|-69.0148656|       Maine|\n",
      "|    1447153649|                NY|40.7056258|  -73.97968|    New York|\n",
      "|    1447153790|                NY|40.7056258|  -73.97968|    New York|\n",
      "|    1447153819|                NY|40.7056258|  -73.97968|    New York|\n",
      "|    1447153820|                PA|40.9945928|-77.6046984|Pennsylvania|\n",
      "|    1447153844|                NY|40.7056258|  -73.97968|    New York|\n",
      "|    1447154198|                NY|40.7056258|  -73.97968|    New York|\n",
      "|    1447154411|                FL|27.9757279|-83.8330166|     Florida|\n",
      "|    1447155294|                NY|40.7056258|  -73.97968|    New York|\n",
      "|    1447155427|                NY|40.7056258|  -73.97968|    New York|\n",
      "|    1447155750|                NY|40.7056258|  -73.97968|    New York|\n",
      "+--------------+------------------+----------+-----------+------------+\n",
      "only showing top 20 rows\n",
      "\n"
     ]
    }
   ],
   "source": [
    "newdf.select('Summons_Number','Registration_State','Latitude','Longitude','City').show(20)"
   ]
  },
  {
   "cell_type": "markdown",
   "id": "deca6afc",
   "metadata": {},
   "source": [
    "# Trying to create clusters using Kmeans Algorithm and get results"
   ]
  },
  {
   "cell_type": "code",
   "execution_count": 18,
   "id": "94c6b4e9",
   "metadata": {},
   "outputs": [
    {
     "name": "stdout",
     "output_type": "stream",
     "text": [
      "root\n",
      " |-- Summons_Number: long (nullable = true)\n",
      " |-- Plate_ID: string (nullable = true)\n",
      " |-- Registration_State: string (nullable = true)\n",
      " |-- Plate_Type: string (nullable = true)\n",
      " |-- Issue_Date: timestamp (nullable = true)\n",
      " |-- Violation_Code: integer (nullable = true)\n",
      " |-- Vehicle_Body_Type: string (nullable = true)\n",
      " |-- Vehicle_Make: string (nullable = true)\n",
      " |-- Street_Code1: integer (nullable = true)\n",
      " |-- Street_Code2: integer (nullable = true)\n",
      " |-- Street_Code3: integer (nullable = true)\n",
      " |-- Violation_Precinct: integer (nullable = true)\n",
      " |-- Issuer_Precinct: integer (nullable = true)\n",
      " |-- Violation_Time: string (nullable = true)\n",
      " |-- Violation_County: string (nullable = true)\n",
      " |-- Street_Name: string (nullable = true)\n",
      " |-- Vehicle_Year: integer (nullable = true)\n",
      " |-- Day_of_Week: integer (nullable = true)\n",
      " |-- Day_of_Month: integer (nullable = true)\n",
      " |-- Latitude: double (nullable = true)\n",
      " |-- Longitude: double (nullable = true)\n",
      " |-- City: string (nullable = true)\n",
      "\n"
     ]
    }
   ],
   "source": [
    "newdf.printSchema()"
   ]
  },
  {
   "cell_type": "markdown",
   "id": "09cacd54",
   "metadata": {},
   "source": [
    "## Selecting the features column. "
   ]
  },
  {
   "cell_type": "code",
   "execution_count": 19,
   "id": "8e38de83",
   "metadata": {},
   "outputs": [],
   "source": [
    "cat_col = ['Registration_State', 'Plate_Type', 'Vehicle_Body_Type']      #string categorical columns"
   ]
  },
  {
   "cell_type": "code",
   "execution_count": 20,
   "id": "c1d06652",
   "metadata": {},
   "outputs": [],
   "source": [
    "num_col = ['Summons_Number','Violation_Code','Day_of_Month','Day_of_Week']       #numerical columns"
   ]
  },
  {
   "cell_type": "code",
   "execution_count": 21,
   "id": "4416e111",
   "metadata": {},
   "outputs": [
    {
     "name": "stdout",
     "output_type": "stream",
     "text": [
      "['Registration_State', 'Plate_Type', 'Vehicle_Body_Type']\n",
      "['Summons_Number', 'Violation_Code', 'Day_of_Month', 'Day_of_Week']\n"
     ]
    }
   ],
   "source": [
    "print(cat_col)\n",
    "print(num_col)"
   ]
  },
  {
   "cell_type": "markdown",
   "id": "363ddcf7",
   "metadata": {},
   "source": [
    "### Importing the OneHotEncoder and StringIndexer for processing categorical striong values for features column"
   ]
  },
  {
   "cell_type": "code",
   "execution_count": 22,
   "id": "28407385",
   "metadata": {},
   "outputs": [],
   "source": [
    "from pyspark.ml.feature import (OneHotEncoder,StringIndexer,VectorAssembler)"
   ]
  },
  {
   "cell_type": "code",
   "execution_count": 23,
   "id": "496ce43d",
   "metadata": {},
   "outputs": [],
   "source": [
    "string_indexer = [StringIndexer(inputCol=x, outputCol= x + \"_StringIndexer\", handleInvalid=\"skip\")\n",
    "                 for x in cat_col]"
   ]
  },
  {
   "cell_type": "code",
   "execution_count": 24,
   "id": "8f4d7c1d",
   "metadata": {},
   "outputs": [],
   "source": [
    "one_hot_encoder = [\n",
    "    OneHotEncoder(\n",
    "    inputCols=[f\"{x}_StringIndexer\" for x in cat_col],\n",
    "        outputCols=[f\"{x}_OneHotEncoder\" for x in cat_col],\n",
    "    )\n",
    "]"
   ]
  },
  {
   "cell_type": "code",
   "execution_count": 25,
   "id": "d0ed81c7",
   "metadata": {},
   "outputs": [
    {
     "data": {
      "text/plain": [
       "[OneHotEncoder_60538f8d055f]"
      ]
     },
     "execution_count": 25,
     "metadata": {},
     "output_type": "execute_result"
    }
   ],
   "source": [
    "one_hot_encoder"
   ]
  },
  {
   "cell_type": "code",
   "execution_count": 26,
   "id": "303eb08b",
   "metadata": {},
   "outputs": [],
   "source": [
    "trydf = newdf"
   ]
  },
  {
   "cell_type": "markdown",
   "id": "ec9912bd",
   "metadata": {},
   "source": [
    "## Vector Assembler to convert all the columns into vectors for the ML Algorithm"
   ]
  },
  {
   "cell_type": "code",
   "execution_count": 27,
   "id": "f7595f37",
   "metadata": {},
   "outputs": [],
   "source": [
    "from pyspark.ml.feature import VectorAssembler"
   ]
  },
  {
   "cell_type": "code",
   "execution_count": 28,
   "id": "73e8f38b",
   "metadata": {},
   "outputs": [],
   "source": [
    "assemblerInput = [x  for x in num_col]\n",
    "assemblerInput += [f\"{x}_OneHotEncoder\" for x in cat_col]"
   ]
  },
  {
   "cell_type": "code",
   "execution_count": 29,
   "id": "977bc602",
   "metadata": {},
   "outputs": [
    {
     "data": {
      "text/plain": [
       "['Summons_Number',\n",
       " 'Violation_Code',\n",
       " 'Day_of_Month',\n",
       " 'Day_of_Week',\n",
       " 'Registration_State_OneHotEncoder',\n",
       " 'Plate_Type_OneHotEncoder',\n",
       " 'Vehicle_Body_Type_OneHotEncoder']"
      ]
     },
     "execution_count": 29,
     "metadata": {},
     "output_type": "execute_result"
    }
   ],
   "source": [
    "assemblerInput"
   ]
  },
  {
   "cell_type": "code",
   "execution_count": 30,
   "id": "5aec8e4d",
   "metadata": {},
   "outputs": [],
   "source": [
    "assembler = VectorAssembler(inputCols=[x for x in assemblerInput],outputCol=\"features\")"
   ]
  },
  {
   "cell_type": "markdown",
   "id": "450dc979",
   "metadata": {},
   "source": [
    "## Creating a Pipeline for data processing"
   ]
  },
  {
   "cell_type": "code",
   "execution_count": 31,
   "id": "28e3fab2",
   "metadata": {},
   "outputs": [],
   "source": [
    "#Creating stages of processing\n",
    "stages =[]\n",
    "stages += string_indexer\n",
    "stages += one_hot_encoder\n",
    "stages += [assembler]"
   ]
  },
  {
   "cell_type": "code",
   "execution_count": 32,
   "id": "77fffe12",
   "metadata": {},
   "outputs": [
    {
     "data": {
      "text/plain": [
       "[StringIndexer_5f44122c8eed,\n",
       " StringIndexer_c23b71704299,\n",
       " StringIndexer_d5ee2717c44a,\n",
       " OneHotEncoder_60538f8d055f,\n",
       " VectorAssembler_8bf2d1e3f5a3]"
      ]
     },
     "execution_count": 32,
     "metadata": {},
     "output_type": "execute_result"
    }
   ],
   "source": [
    "stages"
   ]
  },
  {
   "cell_type": "code",
   "execution_count": 33,
   "id": "070e3e4e",
   "metadata": {},
   "outputs": [
    {
     "name": "stderr",
     "output_type": "stream",
     "text": [
      "                                                                                \r"
     ]
    }
   ],
   "source": [
    "from pyspark.ml import Pipeline\n",
    "\n",
    "pipeline = Pipeline().setStages(stages)\n",
    "model = pipeline.fit(trydf)\n",
    "transformed_df = model.transform(trydf)"
   ]
  },
  {
   "cell_type": "code",
   "execution_count": 83,
   "id": "0b7410b4",
   "metadata": {},
   "outputs": [
    {
     "name": "stdout",
     "output_type": "stream",
     "text": [
      "+--------------+------------------+-----------------+--------------+------------------+----------+-----------+------------+-----------+------------+--------------------+\n",
      "|Summons_Number|Registration_State|Vehicle_Body_Type|Violation_Code|Violation_Precinct|  Latitude|  Longitude|        City|Day_of_Week|Day_of_Month|            features|\n",
      "+--------------+------------------+-----------------+--------------+------------------+----------+-----------+------------+-----------+------------+--------------------+\n",
      "|    1447152396|                NY|              SDN|            21|                26|40.7056258|  -73.97968|    New York|          6|          28|(590,[0,1,2,3,4,5...|\n",
      "|    1447152402|                NY|              SDN|            20|                26|40.7056258|  -73.97968|    New York|          6|          28|(590,[0,1,2,3,4,5...|\n",
      "|    1447152554|                NY|             SUBN|            19|                26|40.7056258|  -73.97968|    New York|          1|          16|(590,[0,1,2,3,4,5...|\n",
      "|    1447152580|                NY|              SDN|            19|                26|40.7056258|  -73.97968|    New York|          2|          24|(590,[0,1,2,3,4,5...|\n",
      "|    1447152992|                NY|             SUBN|            46|                26|40.7056258|  -73.97968|    New York|          6|          14|(590,[0,1,2,3,4,5...|\n",
      "|    1447153315|                NY|             SUBN|            40|                26|40.7056258|  -73.97968|    New York|          6|          14|(590,[0,1,2,3,4,5...|\n",
      "|    1447153327|                NY|             SUBN|            46|                26|40.7056258|  -73.97968|    New York|          6|          14|(590,[0,1,2,3,4,5...|\n",
      "|    1447153340|                NY|             SUBN|            40|                26|40.7056258|  -73.97968|    New York|          6|          28|(590,[0,1,2,3,4,5...|\n",
      "|    1447153352|                ME|              SDN|            48|                26|45.2185133|-69.0148656|       Maine|          7|           6|(590,[0,1,2,3,16,...|\n",
      "|    1447153649|                NY|              SDN|            46|                26|40.7056258|  -73.97968|    New York|          2|           1|(590,[0,1,2,3,4,5...|\n",
      "|    1447153819|                NY|             SUBN|            19|                26|40.7056258|  -73.97968|    New York|          7|          15|(590,[0,1,2,3,4,5...|\n",
      "|    1447153820|                PA|              SDN|            78|                26|40.9945928|-77.6046984|Pennsylvania|          1|          23|(590,[0,1,2,3,6,5...|\n",
      "|    1447153844|                NY|              SDN|            41|                26|40.7056258|  -73.97968|    New York|          1|          30|(590,[0,1,2,3,4,5...|\n",
      "|    1447154198|                NY|              SDN|            46|                26|40.7056258|  -73.97968|    New York|          3|          18|(590,[0,1,2,3,4,5...|\n",
      "|    1447154411|                FL|             SUBN|            46|                26|27.9757279|-83.8330166|     Florida|          6|          14|(590,[0,1,2,3,7,5...|\n",
      "|    1447155294|                NY|              P-U|            14|                26|40.7056258|  -73.97968|    New York|          4|          26|(590,[0,1,2,3,4,5...|\n",
      "|    1447155427|                NY|              SDN|            74|                26|40.7056258|  -73.97968|    New York|          7|          29|(590,[0,1,2,3,4,5...|\n",
      "|    1447155750|                NY|              SDN|            14|                26|40.7056258|  -73.97968|    New York|          4|          26|(590,[0,1,2,3,4,5...|\n",
      "|    1447155877|                PA|              SDN|            46|                26|40.9945928|-77.6046984|Pennsylvania|          5|          27|(590,[0,1,2,3,6,5...|\n",
      "|    1447156183|                NY|             SUBN|            20|                26|40.7056258|  -73.97968|    New York|          6|          14|(590,[0,1,2,3,4,5...|\n",
      "+--------------+------------------+-----------------+--------------+------------------+----------+-----------+------------+-----------+------------+--------------------+\n",
      "only showing top 20 rows\n",
      "\n"
     ]
    }
   ],
   "source": [
    "transformed_df.select('Summons_Number','Registration_State','Vehicle_Body_Type','Violation_Code','Violation_Precinct','Latitude', 'Longitude','City','Day_of_Week','Day_of_Month','features').show(20)"
   ]
  },
  {
   "cell_type": "code",
   "execution_count": 84,
   "id": "ea73b2be",
   "metadata": {},
   "outputs": [],
   "source": [
    "final_df = transformed_df.select('Summons_Number','Registration_State','Vehicle_Body_Type','Violation_Code','Violation_Precinct','Latitude', 'Longitude','City','Day_of_Week','Day_of_Month','features')"
   ]
  },
  {
   "cell_type": "code",
   "execution_count": 86,
   "id": "89349cba",
   "metadata": {},
   "outputs": [
    {
     "name": "stdout",
     "output_type": "stream",
     "text": [
      "+--------------+------------------+-----------------+--------------+------------------+----------+-----------+--------+-----------+------------+--------------------+\n",
      "|Summons_Number|Registration_State|Vehicle_Body_Type|Violation_Code|Violation_Precinct|  Latitude|  Longitude|    City|Day_of_Week|Day_of_Month|            features|\n",
      "+--------------+------------------+-----------------+--------------+------------------+----------+-----------+--------+-----------+------------+--------------------+\n",
      "|    1447152396|                NY|              SDN|            21|                26|40.7056258|  -73.97968|New York|          6|          28|(590,[0,1,2,3,4,5...|\n",
      "|    1447152402|                NY|              SDN|            20|                26|40.7056258|  -73.97968|New York|          6|          28|(590,[0,1,2,3,4,5...|\n",
      "|    1447152554|                NY|             SUBN|            19|                26|40.7056258|  -73.97968|New York|          1|          16|(590,[0,1,2,3,4,5...|\n",
      "|    1447152580|                NY|              SDN|            19|                26|40.7056258|  -73.97968|New York|          2|          24|(590,[0,1,2,3,4,5...|\n",
      "|    1447152992|                NY|             SUBN|            46|                26|40.7056258|  -73.97968|New York|          6|          14|(590,[0,1,2,3,4,5...|\n",
      "|    1447153315|                NY|             SUBN|            40|                26|40.7056258|  -73.97968|New York|          6|          14|(590,[0,1,2,3,4,5...|\n",
      "|    1447153327|                NY|             SUBN|            46|                26|40.7056258|  -73.97968|New York|          6|          14|(590,[0,1,2,3,4,5...|\n",
      "|    1447153340|                NY|             SUBN|            40|                26|40.7056258|  -73.97968|New York|          6|          28|(590,[0,1,2,3,4,5...|\n",
      "|    1447153352|                ME|              SDN|            48|                26|45.2185133|-69.0148656|   Maine|          7|           6|(590,[0,1,2,3,16,...|\n",
      "|    1447153649|                NY|              SDN|            46|                26|40.7056258|  -73.97968|New York|          2|           1|(590,[0,1,2,3,4,5...|\n",
      "+--------------+------------------+-----------------+--------------+------------------+----------+-----------+--------+-----------+------------+--------------------+\n",
      "only showing top 10 rows\n",
      "\n"
     ]
    }
   ],
   "source": [
    "final_df.show(10)"
   ]
  },
  {
   "cell_type": "markdown",
   "id": "e65a864f",
   "metadata": {},
   "source": [
    "## Standardize the values in the dataframe using StandardScaler"
   ]
  },
  {
   "cell_type": "code",
   "execution_count": 87,
   "id": "0902f06e",
   "metadata": {},
   "outputs": [],
   "source": [
    "from pyspark.ml.feature import StandardScaler"
   ]
  },
  {
   "cell_type": "code",
   "execution_count": 88,
   "id": "7c9209ee",
   "metadata": {},
   "outputs": [],
   "source": [
    "# Creating scaler from the StandardScaler\n",
    "scaler = StandardScaler(inputCol=\"features\", outputCol=\"zfeatures\", withStd=True, withMean=False)"
   ]
  },
  {
   "cell_type": "code",
   "execution_count": 89,
   "id": "f291f8fd",
   "metadata": {},
   "outputs": [
    {
     "name": "stderr",
     "output_type": "stream",
     "text": [
      "                                                                                \r"
     ]
    }
   ],
   "source": [
    "# Applying the scaler to the dataframe and transforming it\n",
    "scalerModel = scaler.fit(final_df)\n",
    "cluster_df = scalerModel.transform(final_df)"
   ]
  },
  {
   "cell_type": "markdown",
   "id": "750be965",
   "metadata": {},
   "source": [
    "## Selecting K using Elbow Curve Method for WSSE value (Within sum squared errors) (The value of WSS should be less)"
   ]
  },
  {
   "cell_type": "code",
   "execution_count": 90,
   "id": "a3a5d1b3",
   "metadata": {},
   "outputs": [],
   "source": [
    "from pyspark.ml.clustering import KMeans\n",
    "from pyspark.ml.evaluation import ClusteringEvaluator"
   ]
  },
  {
   "cell_type": "code",
   "execution_count": 91,
   "id": "fd33bc7c",
   "metadata": {},
   "outputs": [],
   "source": [
    "eval  = ClusteringEvaluator(predictionCol=\"prediction\",\n",
    "                           featuresCol=\"zfeatures\",\n",
    "                           metricName=\"silhouette\",\n",
    "                           distanceMeasure=\"squaredEuclidean\")"
   ]
  },
  {
   "cell_type": "code",
   "execution_count": 92,
   "id": "cefb9a8d",
   "metadata": {},
   "outputs": [
    {
     "name": "stdout",
     "output_type": "stream",
     "text": [
      "\n",
      "Silouette Score for Kmeans Clustering \n",
      "=====================================\n",
      "Model\tScore\t\n",
      "=====\t=====\t\n",
      "\n"
     ]
    },
    {
     "name": "stderr",
     "output_type": "stream",
     "text": [
      "                                                                                \r"
     ]
    },
    {
     "name": "stdout",
     "output_type": "stream",
     "text": [
      "K2\t0.999\t\n"
     ]
    },
    {
     "name": "stderr",
     "output_type": "stream",
     "text": [
      "                                                                                \r"
     ]
    },
    {
     "name": "stdout",
     "output_type": "stream",
     "text": [
      "K3\t0.989\t\n"
     ]
    },
    {
     "name": "stderr",
     "output_type": "stream",
     "text": [
      "                                                                                \r"
     ]
    },
    {
     "name": "stdout",
     "output_type": "stream",
     "text": [
      "K4\t0.634\t\n"
     ]
    },
    {
     "name": "stderr",
     "output_type": "stream",
     "text": [
      "                                                                                \r"
     ]
    },
    {
     "name": "stdout",
     "output_type": "stream",
     "text": [
      "K5\t0.635\t\n"
     ]
    },
    {
     "name": "stderr",
     "output_type": "stream",
     "text": [
      "                                                                                \r"
     ]
    },
    {
     "name": "stdout",
     "output_type": "stream",
     "text": [
      "K6\t0.989\t\n"
     ]
    },
    {
     "name": "stderr",
     "output_type": "stream",
     "text": [
      "                                                                                \r"
     ]
    },
    {
     "name": "stdout",
     "output_type": "stream",
     "text": [
      "K7\t-0.466\t\n"
     ]
    },
    {
     "name": "stderr",
     "output_type": "stream",
     "text": [
      "                                                                                \r"
     ]
    },
    {
     "name": "stdout",
     "output_type": "stream",
     "text": [
      "K8\t-0.374\t\n"
     ]
    },
    {
     "name": "stderr",
     "output_type": "stream",
     "text": [
      "                                                                                \r"
     ]
    },
    {
     "name": "stdout",
     "output_type": "stream",
     "text": [
      "K9\t-0.296\t\n"
     ]
    },
    {
     "name": "stderr",
     "output_type": "stream",
     "text": [
      "                                                                                \r"
     ]
    },
    {
     "name": "stdout",
     "output_type": "stream",
     "text": [
      "K10\t-0.278\t\n"
     ]
    },
    {
     "name": "stderr",
     "output_type": "stream",
     "text": [
      "                                                                                \r"
     ]
    },
    {
     "name": "stdout",
     "output_type": "stream",
     "text": [
      "K11\t-0.277\t\n"
     ]
    },
    {
     "name": "stderr",
     "output_type": "stream",
     "text": [
      "[Stage 845:==============>                                          (1 + 3) / 4]\r"
     ]
    },
    {
     "name": "stdout",
     "output_type": "stream",
     "text": [
      "K12\t-0.277\t\n"
     ]
    },
    {
     "name": "stderr",
     "output_type": "stream",
     "text": [
      "                                                                                \r"
     ]
    }
   ],
   "source": [
    "silouette_score = []\n",
    "print(\"\"\"\n",
    "Silouette Score for Kmeans Clustering \n",
    "=====================================\n",
    "Model\\tScore\\t\n",
    "=====\\t=====\\t\n",
    "\"\"\")\n",
    "for k in range(2,13):\n",
    "    kmeans_algo = KMeans(featuresCol=\"zfeatures\",k=k)\n",
    "    kmeans_fit = kmeans_algo.fit(cluster_df)\n",
    "    output = kmeans_fit.transform(cluster_df)\n",
    "    score = eval.evaluate(output)\n",
    "    silouette_score.append(score)\n",
    "    print(f\"K{k}\\t{round(score,3)}\\t\")"
   ]
  },
  {
   "cell_type": "code",
   "execution_count": 93,
   "id": "8b036c6b",
   "metadata": {},
   "outputs": [
    {
     "data": {
      "text/plain": [
       "[0.9987210305485128,\n",
       " 0.9886942590741173,\n",
       " 0.634057511535049,\n",
       " 0.6345926172695406,\n",
       " 0.9887405418803805,\n",
       " -0.46555613971057463,\n",
       " -0.37390987944505216,\n",
       " -0.295670433063589,\n",
       " -0.2780988647110348,\n",
       " -0.277052731404616,\n",
       " -0.2769410765996404]"
      ]
     },
     "execution_count": 93,
     "metadata": {},
     "output_type": "execute_result"
    }
   ],
   "source": [
    "silouette_score"
   ]
  },
  {
   "cell_type": "code",
   "execution_count": 94,
   "id": "facb4b4f",
   "metadata": {},
   "outputs": [
    {
     "ename": "TypeError",
     "evalue": "object of type 'int' has no len()",
     "output_type": "error",
     "traceback": [
      "\u001b[0;31m---------------------------------------------------------------------------\u001b[0m",
      "\u001b[0;31mTypeError\u001b[0m                                 Traceback (most recent call last)",
      "\u001b[0;32m/tmp/ipykernel_4912/209479458.py\u001b[0m in \u001b[0;36m<module>\u001b[0;34m\u001b[0m\n\u001b[1;32m      2\u001b[0m \u001b[0mplt\u001b[0m\u001b[0;34m.\u001b[0m\u001b[0mxlabel\u001b[0m\u001b[0;34m(\u001b[0m\u001b[0;34m\"No. of Clusters\"\u001b[0m\u001b[0;34m)\u001b[0m\u001b[0;34m;\u001b[0m\u001b[0;34m\u001b[0m\u001b[0;34m\u001b[0m\u001b[0m\n\u001b[1;32m      3\u001b[0m \u001b[0mplt\u001b[0m\u001b[0;34m.\u001b[0m\u001b[0mylabel\u001b[0m\u001b[0;34m(\u001b[0m\u001b[0;34m\"Total WSSSE\"\u001b[0m\u001b[0;34m)\u001b[0m\u001b[0;34m;\u001b[0m\u001b[0;34m\u001b[0m\u001b[0;34m\u001b[0m\u001b[0m\n\u001b[0;32m----> 4\u001b[0;31m \u001b[0mplt\u001b[0m\u001b[0;34m.\u001b[0m\u001b[0mxticks\u001b[0m\u001b[0;34m(\u001b[0m\u001b[0mk\u001b[0m\u001b[0;34m)\u001b[0m\u001b[0;34m\u001b[0m\u001b[0;34m\u001b[0m\u001b[0m\n\u001b[0m",
      "\u001b[0;32m/opt/conda/lib/python3.9/site-packages/matplotlib/pyplot.py\u001b[0m in \u001b[0;36mxticks\u001b[0;34m(ticks, labels, **kwargs)\u001b[0m\n\u001b[1;32m   1807\u001b[0m                             \"without setting 'ticks'\")\n\u001b[1;32m   1808\u001b[0m     \u001b[0;32melse\u001b[0m\u001b[0;34m:\u001b[0m\u001b[0;34m\u001b[0m\u001b[0;34m\u001b[0m\u001b[0m\n\u001b[0;32m-> 1809\u001b[0;31m         \u001b[0mlocs\u001b[0m \u001b[0;34m=\u001b[0m \u001b[0max\u001b[0m\u001b[0;34m.\u001b[0m\u001b[0mset_xticks\u001b[0m\u001b[0;34m(\u001b[0m\u001b[0mticks\u001b[0m\u001b[0;34m)\u001b[0m\u001b[0;34m\u001b[0m\u001b[0;34m\u001b[0m\u001b[0m\n\u001b[0m\u001b[1;32m   1810\u001b[0m \u001b[0;34m\u001b[0m\u001b[0m\n\u001b[1;32m   1811\u001b[0m     \u001b[0;32mif\u001b[0m \u001b[0mlabels\u001b[0m \u001b[0;32mis\u001b[0m \u001b[0;32mNone\u001b[0m\u001b[0;34m:\u001b[0m\u001b[0;34m\u001b[0m\u001b[0;34m\u001b[0m\u001b[0m\n",
      "\u001b[0;32m/opt/conda/lib/python3.9/site-packages/matplotlib/axes/_base.py\u001b[0m in \u001b[0;36mwrapper\u001b[0;34m(self, *args, **kwargs)\u001b[0m\n\u001b[1;32m     71\u001b[0m \u001b[0;34m\u001b[0m\u001b[0m\n\u001b[1;32m     72\u001b[0m         \u001b[0;32mdef\u001b[0m \u001b[0mwrapper\u001b[0m\u001b[0;34m(\u001b[0m\u001b[0mself\u001b[0m\u001b[0;34m,\u001b[0m \u001b[0;34m*\u001b[0m\u001b[0margs\u001b[0m\u001b[0;34m,\u001b[0m \u001b[0;34m**\u001b[0m\u001b[0mkwargs\u001b[0m\u001b[0;34m)\u001b[0m\u001b[0;34m:\u001b[0m\u001b[0;34m\u001b[0m\u001b[0;34m\u001b[0m\u001b[0m\n\u001b[0;32m---> 73\u001b[0;31m             \u001b[0;32mreturn\u001b[0m \u001b[0mget_method\u001b[0m\u001b[0;34m(\u001b[0m\u001b[0mself\u001b[0m\u001b[0;34m)\u001b[0m\u001b[0;34m(\u001b[0m\u001b[0;34m*\u001b[0m\u001b[0margs\u001b[0m\u001b[0;34m,\u001b[0m \u001b[0;34m**\u001b[0m\u001b[0mkwargs\u001b[0m\u001b[0;34m)\u001b[0m\u001b[0;34m\u001b[0m\u001b[0;34m\u001b[0m\u001b[0m\n\u001b[0m\u001b[1;32m     74\u001b[0m \u001b[0;34m\u001b[0m\u001b[0m\n\u001b[1;32m     75\u001b[0m         \u001b[0mwrapper\u001b[0m\u001b[0;34m.\u001b[0m\u001b[0m__module__\u001b[0m \u001b[0;34m=\u001b[0m \u001b[0mowner\u001b[0m\u001b[0;34m.\u001b[0m\u001b[0m__module__\u001b[0m\u001b[0;34m\u001b[0m\u001b[0;34m\u001b[0m\u001b[0m\n",
      "\u001b[0;32m/opt/conda/lib/python3.9/site-packages/matplotlib/axis.py\u001b[0m in \u001b[0;36mset_ticks\u001b[0;34m(self, ticks, minor)\u001b[0m\n\u001b[1;32m   1836\u001b[0m             \u001b[0mshared\u001b[0m \u001b[0;34m=\u001b[0m \u001b[0;34m[\u001b[0m\u001b[0mself\u001b[0m\u001b[0;34m]\u001b[0m\u001b[0;34m\u001b[0m\u001b[0;34m\u001b[0m\u001b[0m\n\u001b[1;32m   1837\u001b[0m         \u001b[0;32mfor\u001b[0m \u001b[0maxis\u001b[0m \u001b[0;32min\u001b[0m \u001b[0mshared\u001b[0m\u001b[0;34m:\u001b[0m\u001b[0;34m\u001b[0m\u001b[0;34m\u001b[0m\u001b[0m\n\u001b[0;32m-> 1838\u001b[0;31m             \u001b[0;32mif\u001b[0m \u001b[0mlen\u001b[0m\u001b[0;34m(\u001b[0m\u001b[0mticks\u001b[0m\u001b[0;34m)\u001b[0m \u001b[0;34m>\u001b[0m \u001b[0;36m1\u001b[0m\u001b[0;34m:\u001b[0m\u001b[0;34m\u001b[0m\u001b[0;34m\u001b[0m\u001b[0m\n\u001b[0m\u001b[1;32m   1839\u001b[0m                 \u001b[0mxleft\u001b[0m\u001b[0;34m,\u001b[0m \u001b[0mxright\u001b[0m \u001b[0;34m=\u001b[0m \u001b[0maxis\u001b[0m\u001b[0;34m.\u001b[0m\u001b[0mget_view_interval\u001b[0m\u001b[0;34m(\u001b[0m\u001b[0;34m)\u001b[0m\u001b[0;34m\u001b[0m\u001b[0;34m\u001b[0m\u001b[0m\n\u001b[1;32m   1840\u001b[0m                 \u001b[0;32mif\u001b[0m \u001b[0mxright\u001b[0m \u001b[0;34m>\u001b[0m \u001b[0mxleft\u001b[0m\u001b[0;34m:\u001b[0m\u001b[0;34m\u001b[0m\u001b[0;34m\u001b[0m\u001b[0m\n",
      "\u001b[0;31mTypeError\u001b[0m: object of type 'int' has no len()"
     ]
    },
    {
     "data": {
      "image/png": "[encoded data removed]",
      "text/plain": [
       "<Figure size 432x288 with 1 Axes>"
      ]
     },
     "metadata": {
      "needs_background": "light"
     },
     "output_type": "display_data"
    }
   ],
   "source": [
    "plt.plot(range(2,13),silouette_score);\n",
    "plt.xlabel(\"No. of Clusters\");\n",
    "plt.ylabel(\"Total WSSSE\");\n",
    "plt.xticks(k)"
   ]
  },
  {
   "cell_type": "markdown",
   "id": "c126e4d8",
   "metadata": {},
   "source": [
    "## Taking K=4 becasue from the graph, after k=4 the data is not spliting much, So we will take k=4 as the number of clusters"
   ]
  },
  {
   "cell_type": "code",
   "execution_count": 95,
   "id": "90d35b83",
   "metadata": {},
   "outputs": [
    {
     "name": "stderr",
     "output_type": "stream",
     "text": [
      "                                                                                \r"
     ]
    }
   ],
   "source": [
    "k=4\n",
    "kmeans = KMeans().setK(k).setSeed(1).setFeaturesCol('zfeatures')\n",
    "model = kmeans.fit(cluster_df)\n",
    "centers = model.clusterCenters()"
   ]
  },
  {
   "cell_type": "code",
   "execution_count": 96,
   "id": "f8156cfb",
   "metadata": {},
   "outputs": [
    {
     "name": "stdout",
     "output_type": "stream",
     "text": [
      "CLuster Centers: \n",
      "[2.62632546e+00 1.76236247e+00 2.08771259e+00 2.50700380e+00\n",
      " 2.30483246e+00 1.16779745e-01 1.70854032e-01 6.58497434e-02\n",
      " 5.47968336e-02 2.26367219e-03 3.87249112e-02 3.51680502e-02\n",
      " 3.87595451e-02 3.22713303e-02 3.49212319e-02 2.12624882e-02\n",
      " 1.51711397e-02 4.64405558e-02 2.89351936e-02 1.94138901e-02\n",
      " 6.58268671e-03 5.46264942e-03 1.93694068e-02 1.43026538e-02\n",
      " 2.88177980e-02 1.73908252e-02 3.58677152e-03 6.21871231e-03\n",
      " 1.73702776e-02 4.41408791e-03 1.28916434e-02 1.91391457e-02\n",
      " 1.41116003e-02 1.61728808e-02 8.92433639e-03 1.15613204e-02\n",
      " 1.34901265e-02 1.02202855e-02 8.66709494e-03 7.44949166e-03\n",
      " 6.91066231e-03 7.49510115e-03 5.90950969e-03 5.92535691e-03\n",
      " 4.86607338e-03 5.03293950e-03 4.43587628e-03 2.13281401e-03\n",
      " 8.42210154e-03 3.37142825e-03 3.98485462e-03 4.91285257e-03\n",
      " 2.50706074e-03 3.17119099e-03 2.33713179e+00 0.00000000e+00\n",
      " 1.56843396e-01 1.55902838e-01 1.39436269e-01 0.00000000e+00\n",
      " 5.26861033e-02 0.00000000e+00 6.43058666e-02 2.07998811e-03\n",
      " 7.64487518e-02 3.04502880e-02 4.20306403e-02 4.10445135e-02\n",
      " 1.25714989e-02 3.76384162e-02 0.00000000e+00 3.35796770e-02\n",
      " 3.49893632e-02 2.60068016e-04 0.00000000e+00 2.60088345e-02\n",
      " 1.80968670e-02 0.00000000e+00 1.84376702e-02 1.12141846e-02\n",
      " 1.46782018e-02 2.23954355e-03 0.00000000e+00 1.17604625e-02\n",
      " 6.15710360e-03 1.18727270e-02 0.00000000e+00 5.12196117e-03\n",
      " 0.00000000e+00 1.41819706e-03 7.61085838e-03 4.76896181e-03\n",
      " 6.66565917e-03 0.00000000e+00 0.00000000e+00 2.45638475e-03\n",
      " 0.00000000e+00 6.07923829e-03 3.71370002e-03 0.00000000e+00\n",
      " 6.01687795e-03 0.00000000e+00 4.01125196e-03 3.68456559e-03\n",
      " 4.25456720e-03 3.47383740e-03 1.73691870e-03 0.00000000e+00\n",
      " 1.73691870e-03 0.00000000e+00 0.00000000e+00 0.00000000e+00\n",
      " 2.45637244e-03 0.00000000e+00 2.45637244e-03 2.45637244e-03\n",
      " 0.00000000e+00 2.45637244e-03 1.80690746e+00 0.00000000e+00\n",
      " 2.30873824e-02 0.00000000e+00 8.63541246e-04 2.33196041e-01\n",
      " 3.02511302e-01 0.00000000e+00 0.00000000e+00 0.00000000e+00\n",
      " 2.98778850e-02 0.00000000e+00 1.54109838e-01 0.00000000e+00\n",
      " 1.46902146e-01 0.00000000e+00 0.00000000e+00 0.00000000e+00\n",
      " 4.83076122e-05 4.58466196e-04 0.00000000e+00 0.00000000e+00\n",
      " 0.00000000e+00 1.35484471e-04 0.00000000e+00 0.00000000e+00\n",
      " 0.00000000e+00 0.00000000e+00 0.00000000e+00 0.00000000e+00\n",
      " 0.00000000e+00 0.00000000e+00 0.00000000e+00 0.00000000e+00\n",
      " 9.43533077e-04 0.00000000e+00 0.00000000e+00 0.00000000e+00\n",
      " 0.00000000e+00 0.00000000e+00 0.00000000e+00 0.00000000e+00\n",
      " 0.00000000e+00 0.00000000e+00 0.00000000e+00 0.00000000e+00\n",
      " 1.83618365e-04 0.00000000e+00 0.00000000e+00 2.13012112e-04\n",
      " 0.00000000e+00 0.00000000e+00 0.00000000e+00 0.00000000e+00\n",
      " 0.00000000e+00 0.00000000e+00 0.00000000e+00 3.48433979e-03\n",
      " 0.00000000e+00 0.00000000e+00 0.00000000e+00 0.00000000e+00\n",
      " 0.00000000e+00 0.00000000e+00 1.74176469e-02 0.00000000e+00\n",
      " 0.00000000e+00 0.00000000e+00 0.00000000e+00 0.00000000e+00\n",
      " 1.43740849e-02 0.00000000e+00 0.00000000e+00 0.00000000e+00\n",
      " 0.00000000e+00 0.00000000e+00 0.00000000e+00 0.00000000e+00\n",
      " 0.00000000e+00 0.00000000e+00 0.00000000e+00 0.00000000e+00\n",
      " 0.00000000e+00 0.00000000e+00 0.00000000e+00 0.00000000e+00\n",
      " 0.00000000e+00 0.00000000e+00 0.00000000e+00 0.00000000e+00\n",
      " 0.00000000e+00 0.00000000e+00 0.00000000e+00 0.00000000e+00\n",
      " 0.00000000e+00 0.00000000e+00 9.88682601e-03 0.00000000e+00\n",
      " 0.00000000e+00 0.00000000e+00 2.31591480e-03 0.00000000e+00\n",
      " 0.00000000e+00 0.00000000e+00 0.00000000e+00 0.00000000e+00\n",
      " 0.00000000e+00 0.00000000e+00 1.36256052e-03 0.00000000e+00\n",
      " 0.00000000e+00 0.00000000e+00 0.00000000e+00 0.00000000e+00\n",
      " 0.00000000e+00 0.00000000e+00 0.00000000e+00 0.00000000e+00\n",
      " 0.00000000e+00 0.00000000e+00 0.00000000e+00 0.00000000e+00\n",
      " 0.00000000e+00 0.00000000e+00 0.00000000e+00 0.00000000e+00\n",
      " 0.00000000e+00 0.00000000e+00 0.00000000e+00 0.00000000e+00\n",
      " 0.00000000e+00 0.00000000e+00 0.00000000e+00 0.00000000e+00\n",
      " 0.00000000e+00 0.00000000e+00 0.00000000e+00 0.00000000e+00\n",
      " 0.00000000e+00 0.00000000e+00 0.00000000e+00 0.00000000e+00\n",
      " 0.00000000e+00 0.00000000e+00 0.00000000e+00 0.00000000e+00\n",
      " 0.00000000e+00 0.00000000e+00 0.00000000e+00 0.00000000e+00\n",
      " 0.00000000e+00 1.09852590e-03 0.00000000e+00 0.00000000e+00\n",
      " 0.00000000e+00 0.00000000e+00 0.00000000e+00 0.00000000e+00\n",
      " 0.00000000e+00 0.00000000e+00 0.00000000e+00 0.00000000e+00\n",
      " 0.00000000e+00 0.00000000e+00 0.00000000e+00 0.00000000e+00\n",
      " 0.00000000e+00 0.00000000e+00 0.00000000e+00 0.00000000e+00\n",
      " 0.00000000e+00 0.00000000e+00 0.00000000e+00 0.00000000e+00\n",
      " 0.00000000e+00 0.00000000e+00 0.00000000e+00 4.25456720e-03\n",
      " 0.00000000e+00 0.00000000e+00 0.00000000e+00 0.00000000e+00\n",
      " 0.00000000e+00 0.00000000e+00 0.00000000e+00 0.00000000e+00\n",
      " 0.00000000e+00 0.00000000e+00 0.00000000e+00 0.00000000e+00\n",
      " 0.00000000e+00 0.00000000e+00 0.00000000e+00 0.00000000e+00\n",
      " 0.00000000e+00 0.00000000e+00 0.00000000e+00 0.00000000e+00\n",
      " 0.00000000e+00 0.00000000e+00 0.00000000e+00 0.00000000e+00\n",
      " 0.00000000e+00 0.00000000e+00 0.00000000e+00 0.00000000e+00\n",
      " 0.00000000e+00 0.00000000e+00 0.00000000e+00 0.00000000e+00\n",
      " 0.00000000e+00 0.00000000e+00 0.00000000e+00 0.00000000e+00\n",
      " 0.00000000e+00 0.00000000e+00 0.00000000e+00 0.00000000e+00\n",
      " 0.00000000e+00 0.00000000e+00 0.00000000e+00 0.00000000e+00\n",
      " 0.00000000e+00 0.00000000e+00 0.00000000e+00 0.00000000e+00\n",
      " 0.00000000e+00 0.00000000e+00 0.00000000e+00 0.00000000e+00\n",
      " 0.00000000e+00 0.00000000e+00 0.00000000e+00 0.00000000e+00\n",
      " 0.00000000e+00 0.00000000e+00 0.00000000e+00 0.00000000e+00\n",
      " 0.00000000e+00 0.00000000e+00 0.00000000e+00 0.00000000e+00\n",
      " 0.00000000e+00 0.00000000e+00 0.00000000e+00 0.00000000e+00\n",
      " 0.00000000e+00 0.00000000e+00 0.00000000e+00 0.00000000e+00\n",
      " 0.00000000e+00 0.00000000e+00 0.00000000e+00 0.00000000e+00\n",
      " 0.00000000e+00 0.00000000e+00 0.00000000e+00 0.00000000e+00\n",
      " 2.45637244e-03 0.00000000e+00 0.00000000e+00 0.00000000e+00\n",
      " 0.00000000e+00 0.00000000e+00 0.00000000e+00 0.00000000e+00\n",
      " 0.00000000e+00 0.00000000e+00 0.00000000e+00 0.00000000e+00\n",
      " 0.00000000e+00 0.00000000e+00 0.00000000e+00 0.00000000e+00\n",
      " 0.00000000e+00 0.00000000e+00 0.00000000e+00 0.00000000e+00\n",
      " 0.00000000e+00 0.00000000e+00 0.00000000e+00 0.00000000e+00\n",
      " 0.00000000e+00 0.00000000e+00 2.45637244e-03 0.00000000e+00\n",
      " 0.00000000e+00 0.00000000e+00 2.45637244e-03 0.00000000e+00\n",
      " 0.00000000e+00 0.00000000e+00 0.00000000e+00 0.00000000e+00\n",
      " 2.45637244e-03 0.00000000e+00 0.00000000e+00 0.00000000e+00\n",
      " 0.00000000e+00 0.00000000e+00 0.00000000e+00 0.00000000e+00\n",
      " 0.00000000e+00 0.00000000e+00 0.00000000e+00 0.00000000e+00\n",
      " 0.00000000e+00 0.00000000e+00 0.00000000e+00 0.00000000e+00\n",
      " 2.45637244e-03 0.00000000e+00 0.00000000e+00 0.00000000e+00\n",
      " 0.00000000e+00 0.00000000e+00 0.00000000e+00 0.00000000e+00\n",
      " 0.00000000e+00 0.00000000e+00 0.00000000e+00 0.00000000e+00\n",
      " 0.00000000e+00 0.00000000e+00 0.00000000e+00 0.00000000e+00\n",
      " 0.00000000e+00 0.00000000e+00 0.00000000e+00 0.00000000e+00\n",
      " 0.00000000e+00 0.00000000e+00 0.00000000e+00 0.00000000e+00\n",
      " 0.00000000e+00 0.00000000e+00 0.00000000e+00 0.00000000e+00\n",
      " 0.00000000e+00 0.00000000e+00 0.00000000e+00 0.00000000e+00\n",
      " 0.00000000e+00 0.00000000e+00 0.00000000e+00 0.00000000e+00\n",
      " 0.00000000e+00 0.00000000e+00 0.00000000e+00 0.00000000e+00\n",
      " 0.00000000e+00 0.00000000e+00 0.00000000e+00 0.00000000e+00\n",
      " 0.00000000e+00 0.00000000e+00 0.00000000e+00 0.00000000e+00\n",
      " 0.00000000e+00 0.00000000e+00 0.00000000e+00 0.00000000e+00\n",
      " 0.00000000e+00 0.00000000e+00 0.00000000e+00 0.00000000e+00\n",
      " 2.45637244e-03 0.00000000e+00 0.00000000e+00 0.00000000e+00\n",
      " 2.45637244e-03 0.00000000e+00 0.00000000e+00 0.00000000e+00\n",
      " 0.00000000e+00 0.00000000e+00 0.00000000e+00 0.00000000e+00\n",
      " 0.00000000e+00 0.00000000e+00 0.00000000e+00 0.00000000e+00\n",
      " 0.00000000e+00 0.00000000e+00 0.00000000e+00 0.00000000e+00\n",
      " 0.00000000e+00 0.00000000e+00 0.00000000e+00 0.00000000e+00\n",
      " 0.00000000e+00 0.00000000e+00 0.00000000e+00 0.00000000e+00\n",
      " 0.00000000e+00 0.00000000e+00 0.00000000e+00 0.00000000e+00\n",
      " 0.00000000e+00 0.00000000e+00 0.00000000e+00 0.00000000e+00\n",
      " 0.00000000e+00 0.00000000e+00 0.00000000e+00 0.00000000e+00\n",
      " 2.45637244e-03 0.00000000e+00 0.00000000e+00 0.00000000e+00\n",
      " 0.00000000e+00 0.00000000e+00 0.00000000e+00 0.00000000e+00\n",
      " 0.00000000e+00 0.00000000e+00 0.00000000e+00 0.00000000e+00\n",
      " 2.45637244e-03 0.00000000e+00 0.00000000e+00 0.00000000e+00\n",
      " 0.00000000e+00 0.00000000e+00 0.00000000e+00 0.00000000e+00\n",
      " 0.00000000e+00 0.00000000e+00 0.00000000e+00 0.00000000e+00\n",
      " 0.00000000e+00 0.00000000e+00 0.00000000e+00 0.00000000e+00\n",
      " 0.00000000e+00 0.00000000e+00 0.00000000e+00 2.45637244e-03\n",
      " 2.45637244e-03 0.00000000e+00 0.00000000e+00 0.00000000e+00\n",
      " 0.00000000e+00 0.00000000e+00 0.00000000e+00 0.00000000e+00\n",
      " 0.00000000e+00 0.00000000e+00 0.00000000e+00 0.00000000e+00\n",
      " 0.00000000e+00 0.00000000e+00 0.00000000e+00 0.00000000e+00\n",
      " 0.00000000e+00 0.00000000e+00 0.00000000e+00 0.00000000e+00\n",
      " 0.00000000e+00 0.00000000e+00 0.00000000e+00 0.00000000e+00\n",
      " 0.00000000e+00 0.00000000e+00 0.00000000e+00 0.00000000e+00\n",
      " 0.00000000e+00 0.00000000e+00 0.00000000e+00 0.00000000e+00\n",
      " 0.00000000e+00 0.00000000e+00]\n",
      "[2.49363648e+00 1.75286504e+00 2.07648718e+00 2.50791509e+00\n",
      " 1.72916277e+00 5.08813133e-01 2.39591518e-01 2.13137608e-01\n",
      " 1.56531840e-01 2.04007321e-01 1.13654615e-01 1.31792828e-01\n",
      " 1.17042772e-01 1.23378134e-01 1.01564161e-01 1.03114192e-01\n",
      " 9.89913232e-02 6.52368979e-02 7.97367645e-02 8.47711092e-02\n",
      " 9.26053354e-02 8.15492181e-02 6.66077014e-02 6.88822044e-02\n",
      " 4.24546179e-02 5.36930297e-02 6.53249349e-02 6.19228631e-02\n",
      " 4.94016146e-02 5.72511876e-02 4.90290363e-02 3.99461132e-02\n",
      " 4.23269741e-02 3.91546507e-02 3.40231467e-02 2.90359014e-02\n",
      " 2.44094160e-02 2.71512621e-02 2.45851869e-02 2.62607758e-02\n",
      " 2.67296310e-02 1.92246406e-02 2.06455112e-02 1.94850105e-02\n",
      " 1.96736083e-02 1.86757916e-02 1.68042074e-02 1.85959789e-02\n",
      " 9.23177789e-03 1.34025191e-02 1.17410414e-02 1.03395071e-02\n",
      " 1.00250041e-02 6.67403534e-03 2.27228963e+00 0.00000000e+00\n",
      " 3.11656119e-01 9.63785868e-02 7.38056667e-02 0.00000000e+00\n",
      " 7.41556665e-02 1.33786728e-01 3.28694698e-02 7.93625999e-02\n",
      " 1.05957745e-03 3.06458546e-02 2.85048481e-02 2.77250969e-02\n",
      " 2.99716876e-03 2.19806204e-02 6.06408061e-02 1.88374519e-02\n",
      " 4.09100148e-03 4.61129553e-02 1.45436183e-04 7.22234288e-03\n",
      " 7.71369367e-03 2.72346458e-02 6.21852746e-03 1.40602802e-02\n",
      " 8.94227550e-03 2.03261311e-02 2.47941365e-02 3.58236305e-03\n",
      " 8.38467682e-03 4.30812794e-04 0.00000000e+00 6.46775612e-03\n",
      " 0.00000000e+00 7.46178434e-03 2.00221060e-03 2.86762199e-03\n",
      " 1.55871494e-03 0.00000000e+00 8.17396496e-03 5.16966612e-03\n",
      " 7.75449918e-03 9.13875920e-04 2.93092153e-03 0.00000000e+00\n",
      " 0.00000000e+00 6.33151017e-03 2.11050339e-03 1.29241248e-03\n",
      " 0.00000000e+00 0.00000000e+00 1.82774497e-03 1.82774497e-03\n",
      " 1.82774497e-03 3.65548995e-03 2.58482011e-03 2.58482011e-03\n",
      " 0.00000000e+00 0.00000000e+00 0.00000000e+00 0.00000000e+00\n",
      " 2.58482011e-03 0.00000000e+00 2.29651127e-04 1.46194217e+00\n",
      " 1.08447969e-01 4.66281834e-01 1.98762369e-01 4.52307081e-02\n",
      " 3.63187712e-02 2.23163453e-01 7.44227854e-02 2.00520119e-01\n",
      " 1.24577194e-01 1.77025472e-01 3.48313937e-03 1.59784449e-01\n",
      " 6.94151940e-03 1.60792824e-01 1.47931609e-01 1.36277631e-01\n",
      " 1.10105783e-01 1.09889141e-02 7.96329793e-02 9.91271647e-02\n",
      " 8.68593121e-02 9.19571159e-02 8.15714343e-02 7.25951440e-02\n",
      " 6.97834929e-02 8.34368817e-03 1.46657236e-02 6.74325402e-02\n",
      " 6.16252577e-02 5.96390338e-02 5.91320831e-02 5.54541567e-02\n",
      " 4.84025071e-02 5.10945623e-02 5.01999495e-02 4.98660330e-02\n",
      " 4.63922650e-02 4.38393674e-02 4.21802838e-02 4.40258687e-02\n",
      " 4.16083494e-02 3.98825820e-02 3.93765034e-02 3.46184319e-02\n",
      " 2.39592880e-02 3.05866665e-02 3.04772135e-02 1.12075429e-03\n",
      " 2.96997586e-02 2.85524348e-02 2.79611355e-02 2.40011807e-03\n",
      " 2.63630254e-02 2.51951932e-02 2.47941365e-02 1.29739161e-02\n",
      " 2.31204777e-02 2.20857085e-02 2.20857085e-02 2.14742610e-02\n",
      " 2.16270911e-02 1.98551012e-02 0.00000000e+00 1.95156483e-02\n",
      " 1.71189897e-02 1.89982658e-02 1.69257277e-02 1.77759918e-02\n",
      " 3.86937253e-03 1.37967109e-02 7.48964305e-03 1.61425806e-02\n",
      " 9.93389573e-03 1.59342705e-02 1.59342705e-02 1.57232014e-02\n",
      " 1.57232014e-02 1.55092606e-02 1.50722732e-02 1.46222345e-02\n",
      " 1.29991713e-02 1.41578999e-02 1.39199264e-02 1.36778137e-02\n",
      " 1.36778137e-02 1.09440532e-02 0.00000000e+00 1.29242948e-02\n",
      " 0.00000000e+00 1.26631631e-02 1.21240404e-02 1.21240404e-02\n",
      " 1.21240404e-02 1.18452822e-02 1.15598045e-03 1.12670967e-02\n",
      " 9.74807086e-03 1.09665797e-02 1.21850886e-03 1.06575931e-02\n",
      " 1.06575931e-02 1.03393776e-02 1.00110530e-02 1.00110530e-02\n",
      " 8.98076214e-03 8.28993428e-03 7.16905499e-04 9.31977148e-03\n",
      " 8.95414120e-03 8.57293214e-03 8.57293214e-03 7.79357468e-04\n",
      " 5.45550227e-03 7.79357468e-03 8.17396496e-04 8.61611020e-04\n",
      " 7.75449918e-03 7.31100736e-03 4.56937960e-03 7.31100736e-03\n",
      " 7.31100736e-03 1.82775184e-03 6.83881689e-03 6.83881689e-03\n",
      " 5.86184305e-03 6.83881689e-03 5.86184305e-03 4.88486921e-03\n",
      " 6.83881689e-03 5.86184305e-03 6.83881689e-03 3.90789537e-03\n",
      " 6.83881689e-03 4.22100678e-03 2.11050339e-03 5.27625848e-03\n",
      " 6.33151017e-03 0.00000000e+00 6.33151017e-03 5.77984796e-03\n",
      " 3.46790877e-03 5.77984796e-03 5.77984796e-03 0.00000000e+00\n",
      " 5.77984796e-03 5.77984796e-03 5.77984796e-03 2.31193918e-03\n",
      " 5.77984796e-03 2.31193918e-03 5.77984796e-03 5.16964993e-03\n",
      " 5.16964993e-03 3.87723745e-03 5.16964993e-03 5.16964993e-03\n",
      " 5.16964993e-03 3.87723745e-03 5.16964993e-03 5.16964993e-03\n",
      " 5.16964993e-03 5.16964993e-03 4.47704537e-03 4.47704537e-03\n",
      " 4.47704537e-03 4.47704537e-03 4.47704537e-03 2.98469691e-03\n",
      " 4.47704537e-03 4.47704537e-03 4.47704537e-03 4.47704537e-03\n",
      " 1.49234846e-03 1.49234846e-03 4.47704537e-03 0.00000000e+00\n",
      " 4.47704537e-03 4.47704537e-03 4.47704537e-03 4.47704537e-03\n",
      " 2.98469691e-03 4.47704537e-03 0.00000000e+00 4.47704537e-03\n",
      " 4.47704537e-03 0.00000000e+00 2.98469691e-03 0.00000000e+00\n",
      " 1.49234846e-03 3.65548995e-03 3.65548995e-03 3.65548995e-03\n",
      " 3.65548995e-03 3.65548995e-03 3.65548995e-03 3.65548995e-03\n",
      " 3.65548995e-03 3.65548995e-03 3.65548995e-03 3.65548995e-03\n",
      " 1.82774497e-03 3.65548995e-03 3.65548995e-03 3.65548995e-03\n",
      " 3.65548995e-03 3.65548995e-03 3.65548995e-03 3.65548995e-03\n",
      " 3.65548995e-03 3.65548995e-03 3.65548995e-03 3.65548995e-03\n",
      " 1.82774497e-03 3.65548995e-03 3.65548995e-03 3.65548995e-03\n",
      " 3.65548995e-03 3.65548995e-03 3.65548995e-03 3.65548995e-03\n",
      " 3.65548995e-03 3.65548995e-03 3.65548995e-03 3.65548995e-03\n",
      " 3.65548995e-03 3.65548995e-03 3.65548995e-03 3.65548995e-03\n",
      " 3.65548995e-03 3.65548995e-03 3.65548995e-03 3.65548995e-03\n",
      " 3.65548995e-03 3.65548995e-03 3.65548995e-03 3.65548995e-03\n",
      " 0.00000000e+00 1.82774497e-03 1.82774497e-03 0.00000000e+00\n",
      " 0.00000000e+00 0.00000000e+00 3.65548995e-03 2.58482011e-03\n",
      " 2.58482011e-03 2.58482011e-03 2.58482011e-03 2.58482011e-03\n",
      " 2.58482011e-03 2.58482011e-03 2.58482011e-03 0.00000000e+00\n",
      " 2.58482011e-03 2.58482011e-03 2.58482011e-03 2.58482011e-03\n",
      " 0.00000000e+00 2.58482011e-03 2.58482011e-03 2.58482011e-03\n",
      " 2.58482011e-03 2.58482011e-03 2.58482011e-03 2.58482011e-03\n",
      " 2.58482011e-03 2.58482011e-03 2.58482011e-03 2.58482011e-03\n",
      " 2.58482011e-03 2.58482011e-03 2.58482011e-03 2.58482011e-03\n",
      " 2.58482011e-03 2.58482011e-03 2.58482011e-03 2.58482011e-03\n",
      " 2.58482011e-03 0.00000000e+00 2.58482011e-03 0.00000000e+00\n",
      " 2.58482011e-03 2.58482011e-03 0.00000000e+00 2.58482011e-03\n",
      " 2.58482011e-03 2.58482011e-03 0.00000000e+00 2.58482011e-03\n",
      " 2.58482011e-03 2.58482011e-03 2.58482011e-03 0.00000000e+00\n",
      " 0.00000000e+00 0.00000000e+00 2.58482011e-03 2.58482011e-03\n",
      " 2.58482011e-03 0.00000000e+00 2.58482011e-03 0.00000000e+00\n",
      " 2.58482011e-03 2.58482011e-03 2.58482011e-03 2.58482011e-03\n",
      " 0.00000000e+00 2.58482011e-03 0.00000000e+00 2.58482011e-03\n",
      " 0.00000000e+00 0.00000000e+00 0.00000000e+00 0.00000000e+00\n",
      " 2.58482011e-03 0.00000000e+00 2.58482011e-03 2.58482011e-03\n",
      " 0.00000000e+00 0.00000000e+00 0.00000000e+00 2.58482011e-03\n",
      " 2.58482011e-03 2.58482011e-03 2.58482011e-03 2.58482011e-03\n",
      " 2.58482011e-03 2.58482011e-03 2.58482011e-03 2.58482011e-03\n",
      " 0.00000000e+00 0.00000000e+00 2.58482011e-03 2.58482011e-03\n",
      " 2.58482011e-03 2.58482011e-03 2.58482011e-03 2.58482011e-03\n",
      " 0.00000000e+00 2.58482011e-03 2.58482011e-03 2.58482011e-03\n",
      " 2.58482011e-03 2.58482011e-03 2.58482011e-03 2.58482011e-03\n",
      " 0.00000000e+00 2.58482011e-03 2.58482011e-03 2.58482011e-03\n",
      " 2.58482011e-03 2.58482011e-03 2.58482011e-03 2.58482011e-03\n",
      " 2.58482011e-03 2.58482011e-03 2.58482011e-03 2.58482011e-03\n",
      " 2.58482011e-03 2.58482011e-03 0.00000000e+00 2.58482011e-03\n",
      " 2.58482011e-03 2.58482011e-03 2.58482011e-03 2.58482011e-03\n",
      " 0.00000000e+00 2.58482011e-03 2.58482011e-03 2.58482011e-03\n",
      " 0.00000000e+00 2.58482011e-03 2.58482011e-03 2.58482011e-03\n",
      " 2.58482011e-03 2.58482011e-03 2.58482011e-03 2.58482011e-03\n",
      " 2.58482011e-03 0.00000000e+00 2.58482011e-03 2.58482011e-03\n",
      " 2.58482011e-03 2.58482011e-03 2.58482011e-03 2.58482011e-03\n",
      " 2.58482011e-03 0.00000000e+00 2.58482011e-03 2.58482011e-03\n",
      " 2.58482011e-03 0.00000000e+00 2.58482011e-03 2.58482011e-03\n",
      " 0.00000000e+00 0.00000000e+00 2.58482011e-03 2.58482011e-03\n",
      " 0.00000000e+00 2.58482011e-03 2.58482011e-03 0.00000000e+00\n",
      " 2.58482011e-03 2.58482011e-03 2.58482011e-03 2.58482011e-03\n",
      " 0.00000000e+00 2.58482011e-03 2.58482011e-03 2.58482011e-03\n",
      " 0.00000000e+00 0.00000000e+00 0.00000000e+00 2.58482011e-03\n",
      " 2.58482011e-03 2.58482011e-03 0.00000000e+00 2.58482011e-03\n",
      " 0.00000000e+00 2.58482011e-03 2.58482011e-03 2.58482011e-03\n",
      " 0.00000000e+00 2.58482011e-03 2.58482011e-03 2.58482011e-03\n",
      " 2.58482011e-03 0.00000000e+00 2.58482011e-03 0.00000000e+00\n",
      " 2.58482011e-03 2.58482011e-03 2.58482011e-03 2.58482011e-03\n",
      " 2.58482011e-03 2.58482011e-03 0.00000000e+00 0.00000000e+00\n",
      " 0.00000000e+00 2.58482011e-03 2.58482011e-03 2.58482011e-03\n",
      " 0.00000000e+00 2.58482011e-03 2.58482011e-03 2.58482011e-03\n",
      " 2.58482011e-03 2.58482011e-03 2.58482011e-03 0.00000000e+00\n",
      " 0.00000000e+00 2.58482011e-03 2.58482011e-03 2.58482011e-03\n",
      " 2.58482011e-03 0.00000000e+00 0.00000000e+00 2.58482011e-03\n",
      " 2.58482011e-03 2.58482011e-03 2.58482011e-03 2.58482011e-03\n",
      " 2.58482011e-03 2.58482011e-03 0.00000000e+00 0.00000000e+00\n",
      " 2.58482011e-03 0.00000000e+00 2.58482011e-03 2.58482011e-03\n",
      " 2.58482011e-03 2.58482011e-03]\n",
      "[2.87666291e+00 1.97819180e+00 2.05954128e+00 2.50679434e+00\n",
      " 2.51723674e+00 0.00000000e+00 0.00000000e+00 0.00000000e+00\n",
      " 1.03900436e-01 0.00000000e+00 8.03530748e-02 0.00000000e+00\n",
      " 0.00000000e+00 0.00000000e+00 0.00000000e+00 0.00000000e+00\n",
      " 0.00000000e+00 0.00000000e+00 0.00000000e+00 0.00000000e+00\n",
      " 0.00000000e+00 0.00000000e+00 0.00000000e+00 0.00000000e+00\n",
      " 0.00000000e+00 0.00000000e+00 0.00000000e+00 0.00000000e+00\n",
      " 0.00000000e+00 0.00000000e+00 0.00000000e+00 0.00000000e+00\n",
      " 0.00000000e+00 0.00000000e+00 0.00000000e+00 0.00000000e+00\n",
      " 0.00000000e+00 0.00000000e+00 0.00000000e+00 0.00000000e+00\n",
      " 0.00000000e+00 0.00000000e+00 0.00000000e+00 0.00000000e+00\n",
      " 0.00000000e+00 0.00000000e+00 0.00000000e+00 0.00000000e+00\n",
      " 0.00000000e+00 0.00000000e+00 0.00000000e+00 0.00000000e+00\n",
      " 0.00000000e+00 0.00000000e+00 0.00000000e+00 3.06686155e+00\n",
      " 5.60496232e-03 6.81909699e-03 2.84144023e-03 6.30229016e-01\n",
      " 1.53995743e-02 0.00000000e+00 2.58510070e-04 3.77942869e-03\n",
      " 1.89999439e-03 7.27795668e-02 0.00000000e+00 0.00000000e+00\n",
      " 1.88320569e-01 1.12790840e-02 8.53625929e-04 4.78346323e-04\n",
      " 4.42060163e-02 9.56923622e-03 1.77424598e-01 2.21527413e-03\n",
      " 3.74614097e-03 0.00000000e+00 4.83202605e-03 2.92643524e-03\n",
      " 1.05279986e-03 0.00000000e+00 0.00000000e+00 1.77140009e-02\n",
      " 1.03650977e-02 1.00427247e-02 5.02132776e-02 2.09403581e-03\n",
      " 4.60211138e-02 0.00000000e+00 0.00000000e+00 5.57062113e-03\n",
      " 0.00000000e+00 3.33074282e-02 0.00000000e+00 0.00000000e+00\n",
      " 0.00000000e+00 0.00000000e+00 0.00000000e+00 2.65700695e-02\n",
      " 0.00000000e+00 0.00000000e+00 0.00000000e+00 0.00000000e+00\n",
      " 0.00000000e+00 0.00000000e+00 0.00000000e+00 7.10112754e-03\n",
      " 0.00000000e+00 0.00000000e+00 0.00000000e+00 0.00000000e+00\n",
      " 0.00000000e+00 1.00425046e-02 0.00000000e+00 0.00000000e+00\n",
      " 0.00000000e+00 0.00000000e+00 4.39483984e-02 4.02763913e-03\n",
      " 2.23311633e+00 5.77694197e-03 1.00576832e+00 2.84180404e-01\n",
      " 1.04136641e-02 0.00000000e+00 5.08872008e-01 2.60772478e-04\n",
      " 1.44606438e-01 2.94866764e-04 6.29425172e-04 7.89893947e-03\n",
      " 0.00000000e+00 0.00000000e+00 0.00000000e+00 0.00000000e+00\n",
      " 8.43317803e-02 4.41101554e-01 8.18666696e-02 0.00000000e+00\n",
      " 3.22435722e-02 6.92384529e-03 7.77527285e-03 0.00000000e+00\n",
      " 1.07445886e-02 2.32256644e-01 2.05201582e-01 0.00000000e+00\n",
      " 0.00000000e+00 0.00000000e+00 0.00000000e+00 0.00000000e+00\n",
      " 1.73587107e-02 7.35229009e-03 0.00000000e+00 5.19406886e-04\n",
      " 0.00000000e+00 7.38070913e-03 1.09636831e-02 0.00000000e+00\n",
      " 1.85102450e-03 0.00000000e+00 0.00000000e+00 5.75396859e-03\n",
      " 4.05375687e-02 0.00000000e+00 0.00000000e+00 1.10600182e-01\n",
      " 0.00000000e+00 0.00000000e+00 0.00000000e+00 9.88439716e-02\n",
      " 9.75478415e-04 0.00000000e+00 0.00000000e+00 2.73946009e-02\n",
      " 0.00000000e+00 0.00000000e+00 0.00000000e+00 1.19187827e-03\n",
      " 0.00000000e+00 0.00000000e+00 5.27477010e-03 0.00000000e+00\n",
      " 9.31146213e-03 1.34203235e-03 9.39422643e-03 5.41670734e-03\n",
      " 0.00000000e+00 1.22520630e-02 3.67561889e-02 0.00000000e+00\n",
      " 2.41218898e-02 0.00000000e+00 0.00000000e+00 0.00000000e+00\n",
      " 0.00000000e+00 0.00000000e+00 0.00000000e+00 0.00000000e+00\n",
      " 5.41116287e-03 0.00000000e+00 0.00000000e+00 0.00000000e+00\n",
      " 0.00000000e+00 9.66356188e-03 5.12077285e-02 0.00000000e+00\n",
      " 4.91987326e-02 0.00000000e+00 0.00000000e+00 0.00000000e+00\n",
      " 0.00000000e+00 0.00000000e+00 0.00000000e+00 0.00000000e+00\n",
      " 4.73413246e-03 0.00000000e+00 2.84047948e-02 0.00000000e+00\n",
      " 0.00000000e+00 0.00000000e+00 0.00000000e+00 0.00000000e+00\n",
      " 2.68399410e-03 5.36798820e-03 2.78531056e-02 0.00000000e+00\n",
      " 0.00000000e+00 0.00000000e+00 0.00000000e+00 3.02794802e-02\n",
      " 1.21117921e-02 3.02794802e-03 2.85816302e-02 2.67801464e-02\n",
      " 0.00000000e+00 0.00000000e+00 1.06517313e-02 0.00000000e+00\n",
      " 0.00000000e+00 2.13034627e-02 0.00000000e+00 0.00000000e+00\n",
      " 3.79572422e-03 0.00000000e+00 3.79572422e-03 7.59144843e-03\n",
      " 0.00000000e+00 3.79572422e-03 0.00000000e+00 1.13871726e-02\n",
      " 0.00000000e+00 8.19969633e-03 1.63993927e-02 4.09984817e-03\n",
      " 0.00000000e+00 0.00000000e+00 0.00000000e+00 0.00000000e+00\n",
      " 8.98231167e-03 0.00000000e+00 0.00000000e+00 2.24557792e-02\n",
      " 0.00000000e+00 0.00000000e+00 0.00000000e+00 1.34734675e-02\n",
      " 0.00000000e+00 8.98231167e-03 0.00000000e+00 0.00000000e+00\n",
      " 0.00000000e+00 5.02126173e-03 0.00000000e+00 0.00000000e+00\n",
      " 0.00000000e+00 5.02126173e-03 0.00000000e+00 0.00000000e+00\n",
      " 0.00000000e+00 0.00000000e+00 0.00000000e+00 0.00000000e+00\n",
      " 0.00000000e+00 0.00000000e+00 0.00000000e+00 5.79804999e-03\n",
      " 0.00000000e+00 0.00000000e+00 0.00000000e+00 0.00000000e+00\n",
      " 1.15961000e-02 1.15961000e-02 0.00000000e+00 0.00000000e+00\n",
      " 0.00000000e+00 0.00000000e+00 0.00000000e+00 0.00000000e+00\n",
      " 5.79804999e-03 0.00000000e+00 1.73941500e-02 0.00000000e+00\n",
      " 0.00000000e+00 1.73941500e-02 5.79804999e-03 1.73941500e-02\n",
      " 1.15961000e-02 0.00000000e+00 0.00000000e+00 0.00000000e+00\n",
      " 0.00000000e+00 0.00000000e+00 0.00000000e+00 0.00000000e+00\n",
      " 0.00000000e+00 0.00000000e+00 0.00000000e+00 0.00000000e+00\n",
      " 7.10112754e-03 0.00000000e+00 0.00000000e+00 0.00000000e+00\n",
      " 0.00000000e+00 0.00000000e+00 0.00000000e+00 0.00000000e+00\n",
      " 0.00000000e+00 0.00000000e+00 0.00000000e+00 0.00000000e+00\n",
      " 7.10112754e-03 0.00000000e+00 0.00000000e+00 0.00000000e+00\n",
      " 0.00000000e+00 0.00000000e+00 0.00000000e+00 0.00000000e+00\n",
      " 0.00000000e+00 0.00000000e+00 0.00000000e+00 0.00000000e+00\n",
      " 0.00000000e+00 0.00000000e+00 0.00000000e+00 0.00000000e+00\n",
      " 0.00000000e+00 0.00000000e+00 0.00000000e+00 0.00000000e+00\n",
      " 0.00000000e+00 0.00000000e+00 0.00000000e+00 0.00000000e+00\n",
      " 1.42022551e-02 7.10112754e-03 7.10112754e-03 1.42022551e-02\n",
      " 1.42022551e-02 1.42022551e-02 0.00000000e+00 0.00000000e+00\n",
      " 0.00000000e+00 0.00000000e+00 0.00000000e+00 0.00000000e+00\n",
      " 0.00000000e+00 0.00000000e+00 0.00000000e+00 1.00425046e-02\n",
      " 0.00000000e+00 0.00000000e+00 0.00000000e+00 0.00000000e+00\n",
      " 0.00000000e+00 0.00000000e+00 0.00000000e+00 0.00000000e+00\n",
      " 0.00000000e+00 0.00000000e+00 0.00000000e+00 0.00000000e+00\n",
      " 0.00000000e+00 0.00000000e+00 0.00000000e+00 0.00000000e+00\n",
      " 0.00000000e+00 0.00000000e+00 0.00000000e+00 0.00000000e+00\n",
      " 0.00000000e+00 0.00000000e+00 0.00000000e+00 0.00000000e+00\n",
      " 0.00000000e+00 1.00425046e-02 0.00000000e+00 1.00425046e-02\n",
      " 0.00000000e+00 0.00000000e+00 0.00000000e+00 0.00000000e+00\n",
      " 0.00000000e+00 0.00000000e+00 0.00000000e+00 0.00000000e+00\n",
      " 0.00000000e+00 0.00000000e+00 0.00000000e+00 1.00425046e-02\n",
      " 0.00000000e+00 1.00425046e-02 0.00000000e+00 0.00000000e+00\n",
      " 0.00000000e+00 1.00425046e-02 0.00000000e+00 1.00425046e-02\n",
      " 0.00000000e+00 0.00000000e+00 0.00000000e+00 0.00000000e+00\n",
      " 1.00425046e-02 0.00000000e+00 1.00425046e-02 0.00000000e+00\n",
      " 0.00000000e+00 1.00425046e-02 1.00425046e-02 1.00425046e-02\n",
      " 0.00000000e+00 1.00425046e-02 0.00000000e+00 0.00000000e+00\n",
      " 1.00425046e-02 1.00425046e-02 1.00425046e-02 0.00000000e+00\n",
      " 0.00000000e+00 0.00000000e+00 0.00000000e+00 0.00000000e+00\n",
      " 0.00000000e+00 0.00000000e+00 0.00000000e+00 0.00000000e+00\n",
      " 1.00425046e-02 1.00425046e-02 0.00000000e+00 0.00000000e+00\n",
      " 0.00000000e+00 0.00000000e+00 0.00000000e+00 0.00000000e+00\n",
      " 1.00425046e-02 0.00000000e+00 0.00000000e+00 0.00000000e+00\n",
      " 0.00000000e+00 0.00000000e+00 0.00000000e+00 0.00000000e+00\n",
      " 1.00425046e-02 0.00000000e+00 0.00000000e+00 0.00000000e+00\n",
      " 0.00000000e+00 0.00000000e+00 0.00000000e+00 0.00000000e+00\n",
      " 0.00000000e+00 0.00000000e+00 0.00000000e+00 0.00000000e+00\n",
      " 0.00000000e+00 0.00000000e+00 1.00425046e-02 0.00000000e+00\n",
      " 0.00000000e+00 0.00000000e+00 0.00000000e+00 0.00000000e+00\n",
      " 0.00000000e+00 0.00000000e+00 0.00000000e+00 0.00000000e+00\n",
      " 0.00000000e+00 0.00000000e+00 0.00000000e+00 0.00000000e+00\n",
      " 0.00000000e+00 0.00000000e+00 0.00000000e+00 0.00000000e+00\n",
      " 0.00000000e+00 1.00425046e-02 0.00000000e+00 0.00000000e+00\n",
      " 0.00000000e+00 0.00000000e+00 0.00000000e+00 0.00000000e+00\n",
      " 0.00000000e+00 1.00425046e-02 0.00000000e+00 0.00000000e+00\n",
      " 0.00000000e+00 1.00425046e-02 0.00000000e+00 0.00000000e+00\n",
      " 1.00425046e-02 1.00425046e-02 0.00000000e+00 0.00000000e+00\n",
      " 1.00425046e-02 0.00000000e+00 0.00000000e+00 1.00425046e-02\n",
      " 0.00000000e+00 0.00000000e+00 0.00000000e+00 0.00000000e+00\n",
      " 0.00000000e+00 0.00000000e+00 0.00000000e+00 0.00000000e+00\n",
      " 1.00425046e-02 1.00425046e-02 1.00425046e-02 0.00000000e+00\n",
      " 0.00000000e+00 0.00000000e+00 1.00425046e-02 0.00000000e+00\n",
      " 0.00000000e+00 0.00000000e+00 0.00000000e+00 0.00000000e+00\n",
      " 1.00425046e-02 0.00000000e+00 0.00000000e+00 0.00000000e+00\n",
      " 0.00000000e+00 1.00425046e-02 0.00000000e+00 1.00425046e-02\n",
      " 0.00000000e+00 0.00000000e+00 0.00000000e+00 0.00000000e+00\n",
      " 0.00000000e+00 0.00000000e+00 1.00425046e-02 0.00000000e+00\n",
      " 0.00000000e+00 0.00000000e+00 0.00000000e+00 0.00000000e+00\n",
      " 1.00425046e-02 0.00000000e+00 0.00000000e+00 0.00000000e+00\n",
      " 0.00000000e+00 0.00000000e+00 0.00000000e+00 1.00425046e-02\n",
      " 1.00425046e-02 0.00000000e+00 0.00000000e+00 0.00000000e+00\n",
      " 0.00000000e+00 1.00425046e-02 1.00425046e-02 0.00000000e+00\n",
      " 0.00000000e+00 0.00000000e+00 0.00000000e+00 0.00000000e+00\n",
      " 0.00000000e+00 0.00000000e+00 1.00425046e-02 1.00425046e-02\n",
      " 0.00000000e+00 1.00425046e-02 0.00000000e+00 0.00000000e+00\n",
      " 0.00000000e+00 0.00000000e+00]\n",
      "[  0.579754     2.20669808   2.69891088   1.88265094   1.28009768\n",
      "   0.           0.           0.           0.           0.\n",
      "   2.21077795   0.           0.           0.           0.\n",
      "   0.           0.           3.3801161    0.           0.\n",
      "   0.           0.           0.           4.58811224   0.\n",
      "   0.           0.           0.           0.           0.\n",
      "   0.           0.           0.           0.           0.\n",
      "   0.           0.           0.           0.           0.\n",
      "   0.           0.           0.           0.           0.\n",
      "   0.           0.           0.           0.           0.\n",
      "   0.           0.           0.           0.           0.84557957\n",
      "   0.           0.           0.           0.           2.38420567\n",
      "   2.8907665    0.           0.           0.           4.69604724\n",
      "   0.           0.           0.           0.           0.\n",
      "   0.           0.           0.           0.           8.37945111\n",
      "   0.           0.           0.           0.           0.\n",
      "   0.           0.           0.           0.           0.\n",
      "   0.           0.           0.           0.           0.\n",
      "   0.           0.           0.           0.           0.\n",
      "   0.           0.           0.           0.           0.\n",
      "   0.           0.           0.           0.           0.\n",
      "   0.           0.           0.           0.           0.\n",
      "   0.           0.           0.           0.           0.\n",
      "   0.           0.           0.           0.           0.\n",
      "   0.           0.           0.           0.           0.\n",
      "   0.           0.           0.           0.           0.\n",
      "   0.           0.           0.           0.           0.\n",
      "   0.           0.           0.           0.           0.\n",
      "   0.           0.           0.           0.           0.\n",
      "   0.           0.           0.           0.           0.\n",
      "   0.           0.           0.           0.           0.\n",
      "   0.           0.           0.           0.           0.\n",
      "   0.           0.           0.           0.           0.\n",
      "   0.           0.           0.           0.           0.\n",
      "   0.           0.           0.           0.           0.\n",
      "   0.           0.           0.           0.           0.\n",
      "   0.           0.           0.           0.           0.\n",
      "   0.           0.           0.           0.           0.\n",
      "   0.           0.           0.           0.           0.\n",
      "   0.           0.           0.           0.           0.\n",
      "   0.           0.           0.           0.           0.\n",
      "   0.           0.           0.           0.           0.\n",
      "   0.           0.           0.           0.           0.\n",
      "   0.           0.           0.           0.           0.\n",
      "   0.           0.           0.           0.           0.\n",
      "   0.           0.           0.           0.           0.\n",
      "   0.           0.           0.           0.           0.\n",
      "   0.           0.           0.           0.           0.\n",
      "   0.           0.           0.           0.           0.\n",
      "   0.           0.           0.           0.           0.\n",
      "   0.           0.           0.           0.           0.\n",
      "   0.           0.         364.79629019   0.           0.\n",
      "   0.           0.           0.           0.           0.\n",
      "   0.           0.           0.           0.           0.\n",
      "   0.           0.           0.           0.           0.\n",
      "   0.           0.           0.           0.           0.\n",
      "   0.           0.           0.           0.           0.\n",
      "   0.           0.           0.           0.           0.\n",
      "   0.           0.           0.           0.           0.\n",
      "   0.           0.           0.           0.           0.\n",
      "   0.           0.           0.           0.           0.\n",
      "   0.           0.           0.           0.           0.\n",
      "   0.           0.           0.           0.           0.\n",
      "   0.           0.           0.           0.           0.\n",
      "   0.           0.           0.           0.           0.\n",
      "   0.           0.           0.           0.           0.\n",
      "   0.           0.           0.           0.           0.\n",
      "   0.           0.           0.           0.           0.\n",
      "   0.           0.           0.           0.           0.\n",
      "   0.           0.           0.           0.           0.\n",
      "   0.           0.           0.           0.           0.\n",
      "   0.           0.           0.           0.           0.\n",
      "   0.           0.           0.           0.           0.\n",
      "   0.           0.           0.           0.           0.\n",
      "   0.           0.           0.           0.           0.\n",
      "   0.           0.           0.           0.           0.\n",
      "   0.           0.           0.           0.           0.\n",
      "   0.           0.           0.           0.           0.\n",
      "   0.           0.           0.           0.           0.\n",
      "   0.           0.           0.           0.           0.\n",
      "   0.           0.           0.           0.           0.\n",
      "   0.           0.           0.           0.           0.\n",
      "   0.           0.           0.           0.           0.\n",
      "   0.           0.           0.           0.           0.\n",
      "   0.           0.           0.           0.           0.\n",
      "   0.           0.           0.           0.           0.\n",
      "   0.           0.           0.           0.           0.\n",
      "   0.           0.           0.           0.           0.\n",
      "   0.           0.           0.           0.           0.\n",
      "   0.           0.           0.           0.           0.\n",
      "   0.           0.           0.           0.           0.\n",
      "   0.           0.           0.           0.           0.\n",
      "   0.           0.           0.           0.           0.\n",
      "   0.           0.           0.           0.           0.\n",
      "   0.           0.           0.           0.           0.\n",
      "   0.           0.           0.           0.           0.\n",
      "   0.           0.           0.           0.           0.\n",
      "   0.           0.           0.           0.           0.\n",
      "   0.           0.           0.           0.           0.\n",
      "   0.           0.           0.           0.           0.\n",
      "   0.           0.           0.           0.           0.\n",
      "   0.           0.           0.           0.           0.\n",
      "   0.           0.           0.           0.           0.\n",
      "   0.           0.           0.           0.           0.\n",
      "   0.           0.           0.           0.           0.\n",
      "   0.           0.           0.           0.           0.\n",
      "   0.           0.           0.           0.           0.\n",
      "   0.           0.           0.           0.           0.\n",
      "   0.           0.           0.           0.           0.\n",
      "   0.           0.           0.           0.           0.\n",
      "   0.           0.           0.           0.           0.\n",
      "   0.           0.           0.           0.           0.\n",
      "   0.           0.           0.           0.           0.\n",
      "   0.           0.           0.           0.           0.\n",
      "   0.           0.           0.           0.           0.\n",
      "   0.           0.           0.           0.           0.\n",
      "   0.           0.           0.           0.           0.\n",
      "   0.           0.           0.           0.           0.        ]\n"
     ]
    }
   ],
   "source": [
    "print(\"CLuster Centers: \")\n",
    "for c in centers:\n",
    "    print(c)"
   ]
  },
  {
   "cell_type": "markdown",
   "id": "4cb4ac12",
   "metadata": {},
   "source": [
    "# We will apply the prediction on the data now"
   ]
  },
  {
   "cell_type": "code",
   "execution_count": 97,
   "id": "544b3e84",
   "metadata": {},
   "outputs": [
    {
     "name": "stdout",
     "output_type": "stream",
     "text": [
      "+--------------+------------------+-----------------+--------------+------------------+----------+---------+--------+-----------+------------+--------------------+--------------------+\n",
      "|Summons_Number|Registration_State|Vehicle_Body_Type|Violation_Code|Violation_Precinct|  Latitude|Longitude|    City|Day_of_Week|Day_of_Month|            features|           zfeatures|\n",
      "+--------------+------------------+-----------------+--------------+------------------+----------+---------+--------+-----------+------------+--------------------+--------------------+\n",
      "|    1447152396|                NY|              SDN|            21|                26|40.7056258|-73.97968|New York|          6|          28|(590,[0,1,2,3,4,5...|(590,[0,1,2,3,4,5...|\n",
      "|    1447152402|                NY|              SDN|            20|                26|40.7056258|-73.97968|New York|          6|          28|(590,[0,1,2,3,4,5...|(590,[0,1,2,3,4,5...|\n",
      "|    1447152554|                NY|             SUBN|            19|                26|40.7056258|-73.97968|New York|          1|          16|(590,[0,1,2,3,4,5...|(590,[0,1,2,3,4,5...|\n",
      "|    1447152580|                NY|              SDN|            19|                26|40.7056258|-73.97968|New York|          2|          24|(590,[0,1,2,3,4,5...|(590,[0,1,2,3,4,5...|\n",
      "|    1447152992|                NY|             SUBN|            46|                26|40.7056258|-73.97968|New York|          6|          14|(590,[0,1,2,3,4,5...|(590,[0,1,2,3,4,5...|\n",
      "+--------------+------------------+-----------------+--------------+------------------+----------+---------+--------+-----------+------------+--------------------+--------------------+\n",
      "only showing top 5 rows\n",
      "\n"
     ]
    }
   ],
   "source": [
    "cluster_df.show(5)"
   ]
  },
  {
   "cell_type": "code",
   "execution_count": 130,
   "id": "76f6e3cc",
   "metadata": {},
   "outputs": [
    {
     "name": "stdout",
     "output_type": "stream",
     "text": [
      "['Summons_Number', 'Registration_State', 'Vehicle_Body_Type', 'Violation_Code', 'Violation_Precinct', 'Latitude', 'Longitude', 'City', 'Day_of_Week', 'Day_of_Month', 'features', 'zfeatures']\n"
     ]
    }
   ],
   "source": [
    "print(cluster_df.columns)"
   ]
  },
  {
   "cell_type": "markdown",
   "id": "eb1abd1e",
   "metadata": {},
   "source": [
    "## Prediction for Violation Precinct"
   ]
  },
  {
   "cell_type": "code",
   "execution_count": null,
   "id": "b68f32d6",
   "metadata": {},
   "outputs": [],
   "source": [
    "vip_output = model.transform(cluster_df).select('Violation_Precinct','prediction')\n",
    "vip_rows = vip_output.collect()"
   ]
  },
  {
   "cell_type": "code",
   "execution_count": null,
   "id": "f3588387",
   "metadata": {},
   "outputs": [],
   "source": [
    "vip_rows[:3]"
   ]
  },
  {
   "cell_type": "code",
   "execution_count": null,
   "id": "a7096642",
   "metadata": {},
   "outputs": [],
   "source": [
    "df_vip = spark.createDataFrame(vip_rows)"
   ]
  },
  {
   "cell_type": "code",
   "execution_count": null,
   "id": "eaa37c69",
   "metadata": {},
   "outputs": [],
   "source": [
    "df_vip.groupBy('Violation_Precinct').count().show()"
   ]
  },
  {
   "cell_type": "markdown",
   "id": "4d8d4fb9",
   "metadata": {},
   "source": [
    "### First Answer = Judging by the count , The Violation Precinct \"19\" has the maximum number of Violations in the area \""
   ]
  },
  {
   "cell_type": "markdown",
   "id": "1731e835",
   "metadata": {},
   "source": [
    "# --------------------------------------------------------------------------\n",
    "# --------------------------------------------------------------------------\n",
    "# --------------------------------------------------------------------------\n",
    "# --------------------------------------------------------------------------\n",
    "# --------------------------------------------------------------------------\n"
   ]
  },
  {
   "cell_type": "markdown",
   "id": "7eea9886",
   "metadata": {},
   "source": [
    "## Prediction for Registration_State"
   ]
  },
  {
   "cell_type": "code",
   "execution_count": 121,
   "id": "a11d5edb",
   "metadata": {},
   "outputs": [
    {
     "name": "stderr",
     "output_type": "stream",
     "text": [
      "                                                                                \r"
     ]
    }
   ],
   "source": [
    "city_output = model.transform(cluster_df).select('Registration_State','prediction')\n",
    "city_rows = city_output.collect()\n",
    "city_sum = spark.createDataFrame(city_rows)"
   ]
  },
  {
   "cell_type": "code",
   "execution_count": 122,
   "id": "e3f7180f",
   "metadata": {},
   "outputs": [
    {
     "name": "stderr",
     "output_type": "stream",
     "text": [
      "21/11/28 13:55:58 WARN TaskSetManager: Stage 954 contains a task of very large size (1764 KiB). The maximum recommended task size is 1000 KiB.\n",
      "[Stage 954:==============>                                          (1 + 3) / 4]\r"
     ]
    },
    {
     "name": "stdout",
     "output_type": "stream",
     "text": [
      "+----------+------+\n",
      "|prediction| count|\n",
      "+----------+------+\n",
      "|         0|363773|\n",
      "|         1|345696|\n",
      "|         2| 88978|\n",
      "|         3|     6|\n",
      "+----------+------+\n",
      "\n"
     ]
    },
    {
     "name": "stderr",
     "output_type": "stream",
     "text": [
      "                                                                                \r"
     ]
    }
   ],
   "source": [
    "city_sum.groupBy('prediction').count().show()"
   ]
  },
  {
   "cell_type": "code",
   "execution_count": 123,
   "id": "53863613",
   "metadata": {},
   "outputs": [
    {
     "name": "stderr",
     "output_type": "stream",
     "text": [
      "21/11/28 13:55:59 WARN TaskSetManager: Stage 957 contains a task of very large size (1764 KiB). The maximum recommended task size is 1000 KiB.\n",
      "[Stage 957:>                                                        (0 + 4) / 4]\r"
     ]
    },
    {
     "name": "stdout",
     "output_type": "stream",
     "text": [
      "+------------------+------+\n",
      "|Registration_State| count|\n",
      "+------------------+------+\n",
      "|                SC|  1653|\n",
      "|                AZ|  1480|\n",
      "|                LA|   254|\n",
      "|                MN|  1139|\n",
      "|                NJ| 55569|\n",
      "|                DC|   170|\n",
      "|                OR|   714|\n",
      "|                VA|  4242|\n",
      "|                RI|   685|\n",
      "|                NH|   489|\n",
      "|                MI|   792|\n",
      "|                NV|   108|\n",
      "|                WI|   573|\n",
      "|                ID|    36|\n",
      "|                CA|  1131|\n",
      "|                CT|  8595|\n",
      "|                NE|    65|\n",
      "|                NC|  3688|\n",
      "|                VT|   540|\n",
      "|                MD|  2853|\n",
      "|                DE|   775|\n",
      "|                MO|   282|\n",
      "|                IL|  1813|\n",
      "|                ME|  1973|\n",
      "|                WA|   472|\n",
      "|                ND|    15|\n",
      "|                MS|   174|\n",
      "|                AL|   586|\n",
      "|                IN|  6325|\n",
      "|                OH|  1946|\n",
      "|                TN|  1055|\n",
      "|                IA|   110|\n",
      "|                NM|    69|\n",
      "|                PA| 25484|\n",
      "|                NY|648461|\n",
      "|                TX|  3711|\n",
      "|                WV|   173|\n",
      "|                GA|  2350|\n",
      "|                MA|  4564|\n",
      "|                KS|    86|\n",
      "|                FL| 11763|\n",
      "|                CO|   223|\n",
      "|                AK|    38|\n",
      "|                AR|    92|\n",
      "|                OK|   701|\n",
      "|                UT|    49|\n",
      "|                WY|    24|\n",
      "|                MT|    43|\n",
      "|                SD|    99|\n",
      "|                HI|     6|\n",
      "|                KY|   215|\n",
      "+------------------+------+\n",
      "\n"
     ]
    },
    {
     "name": "stderr",
     "output_type": "stream",
     "text": [
      "                                                                                \r"
     ]
    }
   ],
   "source": [
    "city_sum.groupBy('Registration_State').count().show(65)                                #bcz there are 51 cities"
   ]
  },
  {
   "cell_type": "markdown",
   "id": "17a1e02e",
   "metadata": {},
   "source": [
    "###  Second Answer ---> Judging by the output, from the 51 Cities......\n",
    "+ \"New York\" has maximum number of violations ,i.e. 648461\n",
    "+ \"New Jersey\" has the second most number of violations, i.e. 55569"
   ]
  },
  {
   "cell_type": "markdown",
   "id": "d77fa805",
   "metadata": {},
   "source": [
    "# --------------------------------------------------------------------------\n",
    "# --------------------------------------------------------------------------\n",
    "# --------------------------------------------------------------------------\n",
    "# --------------------------------------------------------------------------\n",
    "# --------------------------------------------------------------------------\n"
   ]
  },
  {
   "cell_type": "markdown",
   "id": "f15bb356",
   "metadata": {},
   "source": [
    "# Prediction on Day_of_week\n",
    "#### Day_of_Week\n",
    "+ 1-Sunday\n",
    "+ 2-Monday\n",
    "+ 3-Tuesday\n",
    "+ 4-Wednesday\n",
    "+ 5-Thursday\n",
    "+ 6-Friday\n",
    "+ 7-Saturday"
   ]
  },
  {
   "cell_type": "code",
   "execution_count": 131,
   "id": "1a252b53",
   "metadata": {},
   "outputs": [
    {
     "name": "stderr",
     "output_type": "stream",
     "text": [
      "                                                                                \r"
     ]
    }
   ],
   "source": [
    "week_output = model.transform(cluster_df).select('Day_of_Week','prediction')\n",
    "week_rows = week_output.collect()\n",
    "week_sum = spark.createDataFrame(week_rows)"
   ]
  },
  {
   "cell_type": "code",
   "execution_count": 132,
   "id": "81a56f6e",
   "metadata": {},
   "outputs": [
    {
     "name": "stderr",
     "output_type": "stream",
     "text": [
      "21/11/28 14:14:20 WARN TaskSetManager: Stage 962 contains a task of very large size (1179 KiB). The maximum recommended task size is 1000 KiB.\n",
      "[Stage 962:==============>                                          (1 + 3) / 4]\r"
     ]
    },
    {
     "name": "stdout",
     "output_type": "stream",
     "text": [
      "+-----------+------+\n",
      "|Day_of_Week| count|\n",
      "+-----------+------+\n",
      "|          7| 66684|\n",
      "|          6|163542|\n",
      "|          5|132400|\n",
      "|          1| 27365|\n",
      "|          3|143881|\n",
      "|          2|129964|\n",
      "|          4|134617|\n",
      "+-----------+------+\n",
      "\n"
     ]
    },
    {
     "name": "stderr",
     "output_type": "stream",
     "text": [
      "                                                                                \r"
     ]
    }
   ],
   "source": [
    "week_sum.groupBy('Day_of_Week').count().show()"
   ]
  },
  {
   "cell_type": "markdown",
   "id": "60c30819",
   "metadata": {},
   "source": [
    "### Third Answer ---> Maximum Number of Violations occured on \"Friday\" i.e the weekend"
   ]
  },
  {
   "cell_type": "markdown",
   "id": "d43d5b56",
   "metadata": {},
   "source": [
    "# --------------------------------------------------------------------------\n",
    "# --------------------------------------------------------------------------\n",
    "# --------------------------------------------------------------------------\n",
    "# --------------------------------------------------------------------------\n",
    "# --------------------------------------------------------------------------\n"
   ]
  },
  {
   "cell_type": "markdown",
   "id": "64ca5cf5",
   "metadata": {},
   "source": [
    "## Prediction on Day_of_Month"
   ]
  },
  {
   "cell_type": "code",
   "execution_count": 133,
   "id": "65045c44",
   "metadata": {},
   "outputs": [
    {
     "name": "stderr",
     "output_type": "stream",
     "text": [
      "                                                                                \r"
     ]
    }
   ],
   "source": [
    "mon_output = model.transform(cluster_df).select('Day_of_Month','prediction')\n",
    "mon_rows = mon_output.collect()\n",
    "mon_sum = spark.createDataFrame(mon_rows)"
   ]
  },
  {
   "cell_type": "code",
   "execution_count": 135,
   "id": "e8b67a14",
   "metadata": {
    "scrolled": true
   },
   "outputs": [
    {
     "name": "stderr",
     "output_type": "stream",
     "text": [
      "21/11/28 14:23:11 WARN TaskSetManager: Stage 970 contains a task of very large size (1179 KiB). The maximum recommended task size is 1000 KiB.\n",
      "[Stage 970:============================>                            (2 + 2) / 4]\r"
     ]
    },
    {
     "name": "stdout",
     "output_type": "stream",
     "text": [
      "+------------+-----+\n",
      "|Day_of_Month|count|\n",
      "+------------+-----+\n",
      "|          26|37082|\n",
      "|          29|14236|\n",
      "|          19|45651|\n",
      "|          22|34363|\n",
      "|           7| 6265|\n",
      "|          31| 1020|\n",
      "|          25|28122|\n",
      "|           6|10591|\n",
      "|           9|27690|\n",
      "|          27|29788|\n",
      "|          17|42435|\n",
      "|          28|28671|\n",
      "|           5|19181|\n",
      "|           1|24879|\n",
      "|          10|23007|\n",
      "|           3|20100|\n",
      "|          12|51435|\n",
      "|           8|21764|\n",
      "|          11|41840|\n",
      "|           2|28733|\n",
      "|           4| 4755|\n",
      "|          13|17554|\n",
      "|          18|43355|\n",
      "|          14| 9696|\n",
      "|          21| 9401|\n",
      "|          15|44823|\n",
      "|          30| 5186|\n",
      "|          23|33187|\n",
      "|          20|16051|\n",
      "|          16|44355|\n",
      "|          24|33237|\n",
      "+------------+-----+\n",
      "\n"
     ]
    },
    {
     "name": "stderr",
     "output_type": "stream",
     "text": [
      "                                                                                \r"
     ]
    }
   ],
   "source": [
    "mon_sum.groupBy('Day_of_Month').count().show(31)"
   ]
  },
  {
   "cell_type": "markdown",
   "id": "8ef69b80",
   "metadata": {},
   "source": [
    "### Fourth Answer ---> Maximum Number of Violations occured on the 12th day of the month."
   ]
  },
  {
   "cell_type": "markdown",
   "id": "fefb18c4",
   "metadata": {},
   "source": [
    "# --------------------------------------------------------------------------\n",
    "# --------------------------------------------------------------------------\n",
    "# --------------------------------------------------------------------------\n",
    "# --------------------------------------------------------------------------\n",
    "# --------------------------------------------------------------------------"
   ]
  },
  {
   "cell_type": "markdown",
   "id": "dac88706",
   "metadata": {},
   "source": [
    "## Mapping the clusters on geomap using latitude and longitude data"
   ]
  },
  {
   "cell_type": "code",
   "execution_count": 136,
   "id": "227ffc1b",
   "metadata": {},
   "outputs": [
    {
     "name": "stdout",
     "output_type": "stream",
     "text": [
      "['Summons_Number', 'Registration_State', 'Vehicle_Body_Type', 'Violation_Code', 'Violation_Precinct', 'Latitude', 'Longitude', 'City', 'Day_of_Week', 'Day_of_Month', 'features', 'zfeatures']\n"
     ]
    }
   ],
   "source": [
    "print(cluster_df.columns)"
   ]
  },
  {
   "cell_type": "code",
   "execution_count": 137,
   "id": "7fed9861",
   "metadata": {},
   "outputs": [
    {
     "name": "stderr",
     "output_type": "stream",
     "text": [
      "                                                                                \r"
     ]
    }
   ],
   "source": [
    "map_output = model.transform(cluster_df).select('Summons_Number', 'Registration_State', 'Vehicle_Body_Type', 'Violation_Code', 'Violation_Precinct', 'Latitude', 'Longitude','prediction')\n",
    "map_rows = map_output.collect()\n",
    "map_df = spark.createDataFrame(map_rows)"
   ]
  },
  {
   "cell_type": "code",
   "execution_count": 138,
   "id": "a6137a31",
   "metadata": {},
   "outputs": [
    {
     "name": "stdout",
     "output_type": "stream",
     "text": [
      "+--------------+------------------+-----------------+--------------+------------------+----------+---------+----------+\n",
      "|Summons_Number|Registration_State|Vehicle_Body_Type|Violation_Code|Violation_Precinct|  Latitude|Longitude|prediction|\n",
      "+--------------+------------------+-----------------+--------------+------------------+----------+---------+----------+\n",
      "|    1447152396|                NY|              SDN|            21|                26|40.7056258|-73.97968|         1|\n",
      "|    1447152402|                NY|              SDN|            20|                26|40.7056258|-73.97968|         1|\n",
      "|    1447152554|                NY|             SUBN|            19|                26|40.7056258|-73.97968|         0|\n",
      "+--------------+------------------+-----------------+--------------+------------------+----------+---------+----------+\n",
      "only showing top 3 rows\n",
      "\n"
     ]
    },
    {
     "name": "stderr",
     "output_type": "stream",
     "text": [
      "21/11/28 14:40:38 WARN TaskSetManager: Stage 975 contains a task of very large size (8901 KiB). The maximum recommended task size is 1000 KiB.\n"
     ]
    }
   ],
   "source": [
    "map_df.show(3)"
   ]
  },
  {
   "cell_type": "code",
   "execution_count": 180,
   "id": "0fb7a398",
   "metadata": {
    "scrolled": true
   },
   "outputs": [
    {
     "name": "stdout",
     "output_type": "stream",
     "text": [
      "Requirement already satisfied: plotly-geo in /opt/conda/lib/python3.9/site-packages (1.0.0)\r\n"
     ]
    }
   ],
   "source": [
    "## Install these if you don't have them installed\n",
    "# !pip install geopandas\n",
    "# !pip install plotly\n",
    "# !pip install contextily\n",
    "# !pip install plotly-geo"
   ]
  },
  {
   "cell_type": "code",
   "execution_count": 141,
   "id": "8fc41291",
   "metadata": {},
   "outputs": [],
   "source": [
    "import geopandas as gpd\n",
    "import matplotlib.pyplot as plt\n",
    "import plotly.express as px"
   ]
  },
  {
   "cell_type": "code",
   "execution_count": 167,
   "id": "306959b2",
   "metadata": {},
   "outputs": [],
   "source": [
    "import contextily as cx"
   ]
  },
  {
   "cell_type": "code",
   "execution_count": 183,
   "id": "ee7aedef",
   "metadata": {},
   "outputs": [],
   "source": [
    "import plotly.figure_factory as  ff"
   ]
  },
  {
   "cell_type": "code",
   "execution_count": 139,
   "id": "c7c1372e",
   "metadata": {},
   "outputs": [
    {
     "name": "stderr",
     "output_type": "stream",
     "text": [
      "21/11/28 14:54:48 WARN TaskSetManager: Stage 976 contains a task of very large size (8901 KiB). The maximum recommended task size is 1000 KiB.\n",
      "                                                                                \r"
     ]
    }
   ],
   "source": [
    "geo_data = map_df.toPandas()"
   ]
  },
  {
   "cell_type": "code",
   "execution_count": 140,
   "id": "63aef3b6",
   "metadata": {},
   "outputs": [
    {
     "data": {
      "text/html": [
       "<div>\n",
       "<style scoped>\n",
       "    .dataframe tbody tr th:only-of-type {\n",
       "        vertical-align: middle;\n",
       "    }\n",
       "\n",
       "    .dataframe tbody tr th {\n",
       "        vertical-align: top;\n",
       "    }\n",
       "\n",
       "    .dataframe thead th {\n",
       "        text-align: right;\n",
       "    }\n",
       "</style>\n",
       "<table border=\"1\" class=\"dataframe\">\n",
       "  <thead>\n",
       "    <tr style=\"text-align: right;\">\n",
       "      <th></th>\n",
       "      <th>Summons_Number</th>\n",
       "      <th>Registration_State</th>\n",
       "      <th>Vehicle_Body_Type</th>\n",
       "      <th>Violation_Code</th>\n",
       "      <th>Violation_Precinct</th>\n",
       "      <th>Latitude</th>\n",
       "      <th>Longitude</th>\n",
       "      <th>prediction</th>\n",
       "    </tr>\n",
       "  </thead>\n",
       "  <tbody>\n",
       "    <tr>\n",
       "      <th>0</th>\n",
       "      <td>1447152396</td>\n",
       "      <td>NY</td>\n",
       "      <td>SDN</td>\n",
       "      <td>21</td>\n",
       "      <td>26</td>\n",
       "      <td>40.705626</td>\n",
       "      <td>-73.97968</td>\n",
       "      <td>1</td>\n",
       "    </tr>\n",
       "    <tr>\n",
       "      <th>1</th>\n",
       "      <td>1447152402</td>\n",
       "      <td>NY</td>\n",
       "      <td>SDN</td>\n",
       "      <td>20</td>\n",
       "      <td>26</td>\n",
       "      <td>40.705626</td>\n",
       "      <td>-73.97968</td>\n",
       "      <td>1</td>\n",
       "    </tr>\n",
       "    <tr>\n",
       "      <th>2</th>\n",
       "      <td>1447152554</td>\n",
       "      <td>NY</td>\n",
       "      <td>SUBN</td>\n",
       "      <td>19</td>\n",
       "      <td>26</td>\n",
       "      <td>40.705626</td>\n",
       "      <td>-73.97968</td>\n",
       "      <td>0</td>\n",
       "    </tr>\n",
       "    <tr>\n",
       "      <th>3</th>\n",
       "      <td>1447152580</td>\n",
       "      <td>NY</td>\n",
       "      <td>SDN</td>\n",
       "      <td>19</td>\n",
       "      <td>26</td>\n",
       "      <td>40.705626</td>\n",
       "      <td>-73.97968</td>\n",
       "      <td>1</td>\n",
       "    </tr>\n",
       "    <tr>\n",
       "      <th>4</th>\n",
       "      <td>1447152992</td>\n",
       "      <td>NY</td>\n",
       "      <td>SUBN</td>\n",
       "      <td>46</td>\n",
       "      <td>26</td>\n",
       "      <td>40.705626</td>\n",
       "      <td>-73.97968</td>\n",
       "      <td>0</td>\n",
       "    </tr>\n",
       "  </tbody>\n",
       "</table>\n",
       "</div>"
      ],
      "text/plain": [
       "   Summons_Number Registration_State Vehicle_Body_Type  Violation_Code  \\\n",
       "0      1447152396                 NY               SDN              21   \n",
       "1      1447152402                 NY               SDN              20   \n",
       "2      1447152554                 NY              SUBN              19   \n",
       "3      1447152580                 NY               SDN              19   \n",
       "4      1447152992                 NY              SUBN              46   \n",
       "\n",
       "   Violation_Precinct   Latitude  Longitude  prediction  \n",
       "0                  26  40.705626  -73.97968           1  \n",
       "1                  26  40.705626  -73.97968           1  \n",
       "2                  26  40.705626  -73.97968           0  \n",
       "3                  26  40.705626  -73.97968           1  \n",
       "4                  26  40.705626  -73.97968           0  "
      ]
     },
     "execution_count": 140,
     "metadata": {},
     "output_type": "execute_result"
    }
   ],
   "source": [
    "geo_data.head(5)"
   ]
  },
  {
   "cell_type": "code",
   "execution_count": 142,
   "id": "c8797106",
   "metadata": {},
   "outputs": [],
   "source": [
    "#  creating the geo-points to plot for the data\n",
    "geo_points_df = gpd.GeoDataFrame(geo_data, geometry= gpd.points_from_xy(\n",
    "geo_data.Longitude, geo_data.Latitude))"
   ]
  },
  {
   "cell_type": "code",
   "execution_count": 144,
   "id": "2ea023a3",
   "metadata": {},
   "outputs": [
    {
     "data": {
      "text/html": [
       "<div>\n",
       "<style scoped>\n",
       "    .dataframe tbody tr th:only-of-type {\n",
       "        vertical-align: middle;\n",
       "    }\n",
       "\n",
       "    .dataframe tbody tr th {\n",
       "        vertical-align: top;\n",
       "    }\n",
       "\n",
       "    .dataframe thead th {\n",
       "        text-align: right;\n",
       "    }\n",
       "</style>\n",
       "<table border=\"1\" class=\"dataframe\">\n",
       "  <thead>\n",
       "    <tr style=\"text-align: right;\">\n",
       "      <th></th>\n",
       "      <th>Summons_Number</th>\n",
       "      <th>Registration_State</th>\n",
       "      <th>Vehicle_Body_Type</th>\n",
       "      <th>Violation_Code</th>\n",
       "      <th>Violation_Precinct</th>\n",
       "      <th>Latitude</th>\n",
       "      <th>Longitude</th>\n",
       "      <th>prediction</th>\n",
       "      <th>geometry</th>\n",
       "    </tr>\n",
       "  </thead>\n",
       "  <tbody>\n",
       "    <tr>\n",
       "      <th>0</th>\n",
       "      <td>1447152396</td>\n",
       "      <td>NY</td>\n",
       "      <td>SDN</td>\n",
       "      <td>21</td>\n",
       "      <td>26</td>\n",
       "      <td>40.705626</td>\n",
       "      <td>-73.97968</td>\n",
       "      <td>1</td>\n",
       "      <td>POINT (-73.97968 40.70563)</td>\n",
       "    </tr>\n",
       "    <tr>\n",
       "      <th>1</th>\n",
       "      <td>1447152402</td>\n",
       "      <td>NY</td>\n",
       "      <td>SDN</td>\n",
       "      <td>20</td>\n",
       "      <td>26</td>\n",
       "      <td>40.705626</td>\n",
       "      <td>-73.97968</td>\n",
       "      <td>1</td>\n",
       "      <td>POINT (-73.97968 40.70563)</td>\n",
       "    </tr>\n",
       "    <tr>\n",
       "      <th>2</th>\n",
       "      <td>1447152554</td>\n",
       "      <td>NY</td>\n",
       "      <td>SUBN</td>\n",
       "      <td>19</td>\n",
       "      <td>26</td>\n",
       "      <td>40.705626</td>\n",
       "      <td>-73.97968</td>\n",
       "      <td>0</td>\n",
       "      <td>POINT (-73.97968 40.70563)</td>\n",
       "    </tr>\n",
       "    <tr>\n",
       "      <th>3</th>\n",
       "      <td>1447152580</td>\n",
       "      <td>NY</td>\n",
       "      <td>SDN</td>\n",
       "      <td>19</td>\n",
       "      <td>26</td>\n",
       "      <td>40.705626</td>\n",
       "      <td>-73.97968</td>\n",
       "      <td>1</td>\n",
       "      <td>POINT (-73.97968 40.70563)</td>\n",
       "    </tr>\n",
       "    <tr>\n",
       "      <th>4</th>\n",
       "      <td>1447152992</td>\n",
       "      <td>NY</td>\n",
       "      <td>SUBN</td>\n",
       "      <td>46</td>\n",
       "      <td>26</td>\n",
       "      <td>40.705626</td>\n",
       "      <td>-73.97968</td>\n",
       "      <td>0</td>\n",
       "      <td>POINT (-73.97968 40.70563)</td>\n",
       "    </tr>\n",
       "  </tbody>\n",
       "</table>\n",
       "</div>"
      ],
      "text/plain": [
       "   Summons_Number Registration_State Vehicle_Body_Type  Violation_Code  \\\n",
       "0      1447152396                 NY               SDN              21   \n",
       "1      1447152402                 NY               SDN              20   \n",
       "2      1447152554                 NY              SUBN              19   \n",
       "3      1447152580                 NY               SDN              19   \n",
       "4      1447152992                 NY              SUBN              46   \n",
       "\n",
       "   Violation_Precinct   Latitude  Longitude  prediction  \\\n",
       "0                  26  40.705626  -73.97968           1   \n",
       "1                  26  40.705626  -73.97968           1   \n",
       "2                  26  40.705626  -73.97968           0   \n",
       "3                  26  40.705626  -73.97968           1   \n",
       "4                  26  40.705626  -73.97968           0   \n",
       "\n",
       "                     geometry  \n",
       "0  POINT (-73.97968 40.70563)  \n",
       "1  POINT (-73.97968 40.70563)  \n",
       "2  POINT (-73.97968 40.70563)  \n",
       "3  POINT (-73.97968 40.70563)  \n",
       "4  POINT (-73.97968 40.70563)  "
      ]
     },
     "execution_count": 144,
     "metadata": {},
     "output_type": "execute_result"
    }
   ],
   "source": [
    "geo_points_df.head()"
   ]
  },
  {
   "cell_type": "code",
   "execution_count": 145,
   "id": "7354ea89",
   "metadata": {},
   "outputs": [],
   "source": [
    "# Get the built in world map from the geopandas library\n",
    "world_data = gpd.read_file(gpd.datasets.get_path('naturalearth_lowres'))"
   ]
  },
  {
   "cell_type": "code",
   "execution_count": 190,
   "id": "732297c3",
   "metadata": {},
   "outputs": [
    {
     "data": {
      "image/png": "[encoded data removed]",
      "text/plain": [
       "<Figure size 1728x1728 with 1 Axes>"
      ]
     },
     "metadata": {
      "needs_background": "light"
     },
     "output_type": "display_data"
    }
   ],
   "source": [
    "# Plot the data on the map\n",
    "axis = world_data[world_data.continent == 'North America'].plot(\n",
    "color = 'lightblue', edgecolor = 'black')\n",
    "\n",
    "geo_points_df.plot(ax = axis, color = 'black')\n",
    "plt.title('NYC Violation Areas')\n",
    "\n",
    "fig = plt.gcf()\n",
    "fig.set_size_inches(24,24)\n",
    "fig.savefig('matplot.png',dpi = 200)\n",
    "plt.show()"
   ]
  },
  {
   "cell_type": "code",
   "execution_count": null,
   "id": "ac7a4b8f",
   "metadata": {},
   "outputs": [],
   "source": []
  },
  {
   "cell_type": "code",
   "execution_count": null,
   "id": "96a5eceb",
   "metadata": {},
   "outputs": [],
   "source": []
  },
  {
   "cell_type": "code",
   "execution_count": null,
   "id": "b7d0cd30",
   "metadata": {},
   "outputs": [],
   "source": []
  },
  {
   "cell_type": "code",
   "execution_count": null,
   "id": "f836a884",
   "metadata": {},
   "outputs": [],
   "source": []
  }
 ],
 "metadata": {
  "kernelspec": {
   "display_name": "Python 3 (ipykernel)",
   "language": "python",
   "name": "python3"
  },
  "language_info": {
   "codemirror_mode": {
    "name": "ipython",
    "version": 3
   },
   "file_extension": ".py",
   "mimetype": "text/x-python",
   "name": "python",
   "nbconvert_exporter": "python",
   "pygments_lexer": "ipython3",
   "version": "3.9.7"
  }
 },
 "nbformat": 4,
 "nbformat_minor": 5
}
