{
 "cells": [
  {
   "cell_type": "code",
   "execution_count": null,
   "id": "9c211487",
   "metadata": {},
   "outputs": [],
   "source": [
    "#importing the jar files and SparkSession\n",
    "\n",
    "from pyspark.sql import SparkSession\n",
    "import pyspark\n",
    "import os\n",
    "os.environ['PYSPARK_SUBMIT_ARGS'] = '--jars ./abris_2.12-3.2.0.jar --packages org.apache.spark:spark-sql-kafka-0-10_2.12:3.2.0 pyspark-shell'"
   ]
  },
  {
   "cell_type": "code",
   "execution_count": null,
   "id": "f02a4ac5",
   "metadata": {},
   "outputs": [],
   "source": [
    "# Creating the SparkSession\n",
    "\n",
    "spark = SparkSession \\\n",
    "    .builder \\\n",
    "    .config(\"spark.executor.memory\", \"20g\")\\\n",
    "    .config(\"spark.driver.memory\", \"20g\")\\\n",
    "    .config(\"spark.memory.offHeap.enabled\",\"true\")\\\n",
    "    .config(\"spark.memory.offHeap.size\",\"20g\")\\\n",
    "    .appName(\"my_pyspark_kafka\") \\\n",
    "    .getOrCreate()\n",
    "print(spark)"
   ]
  },
  {
   "cell_type": "code",
   "execution_count": null,
   "id": "b20280ea",
   "metadata": {},
   "outputs": [],
   "source": [
    "# Importing data from kafka topic into spark data frame\n",
    "\n",
    "\n",
    "readDF = spark \\\n",
    ".readStream \\\n",
    ".format(\"kafka\") \\\n",
    ".option(\"kafka.bootstrap.servers\",\"broker:29092\") \\\n",
    ".option(\"subscribe\",\"newtopic\") \\\n",
    ".option(\"startingOffsets\",\"earliest\") \\\n",
    ".load() \\\n",
    ".selectExpr(\"CAST(value AS STRING)\")\n",
    "\n"
   ]
  },
  {
   "cell_type": "code",
   "execution_count": null,
   "id": "0e9b0050",
   "metadata": {},
   "outputs": [],
   "source": [
    "# resultDF = readDF \\\n",
    "# .writeStream \\\n",
    "# .format(\"console\") \\\n",
    "# .outputMode(\"append\") \\\n",
    "# .option(\"checkpointLocation\", \"checkpoint/\")\\\n",
    "# .option(\"truncate\", \"false\")\\\n",
    "# .option(\"numRows\",20) \\\n",
    "# .start().awaitTermination()"
   ]
  },
  {
   "cell_type": "code",
   "execution_count": null,
   "id": "03102627",
   "metadata": {},
   "outputs": [],
   "source": [
    "# Summons_Number,Plate_ID,Registration_State,Plate_Type,Issue_Date,Violation_Code,Vehicle_Body_Type,Vehicle_Make,Street_Code1,Street_Code2,Street_Code3,Violation_Precinct,Issuer_Precinct,Violation_Time,Violation_County,House_Number,Street_Name,Intersecting_Street,Vehicle_Year"
   ]
  },
  {
   "cell_type": "code",
   "execution_count": null,
   "id": "dbcc5ffa",
   "metadata": {},
   "outputs": [],
   "source": [
    "# Importing sql funtion adn types library for type casting and split function\n",
    "\n",
    "from pyspark.sql.functions import *\n",
    "from pyspark.sql.types import *\n",
    "\n",
    "\n",
    "# Defining the schema and changing the values from json to struct format for processing in SQL, as it uses SQL Struct types\n",
    "\n",
    "# from pyspark.sql.functions import from_json, col\n",
    "# from pyspark.sql.types import StructType, StructField, StringType\n",
    "\n",
    "schema = StructType(\n",
    "    [\n",
    "        StructField('Summons_Number', StringType(), True),\n",
    "        StructField('Plate_ID', StringType(), True),\n",
    "        StructField('Registration_State', StringType(), True),\n",
    "        StructField('Plate_Type', StringType(), True),\n",
    "        StructField('Issue_Date', StringType(), True),\n",
    "        StructField('Violation_Code', StringType(), True),\n",
    "        StructField('Vehicle_Body_Type', StringType(), True),\n",
    "        StructField('Vehicle_Make', StringType(), True),\n",
    "        StructField('Street_Code1', StringType(), True),\n",
    "        StructField('Street_Code2', StringType(), True),\n",
    "        StructField('Street_Code3', StringType(), True),\n",
    "        StructField('Violation_Precinct', StringType(), True),\n",
    "        StructField('Issuer_Precinct', StringType(), True),\n",
    "        StructField('Violation_Time', StringType(), True),\n",
    "        StructField('Violation_County', StringType(), True),\n",
    "        StructField('Street_Name', StringType(), True),\n",
    "        StructField('Vehicle_Year', StringType(), True),\n",
    "    ]\n",
    ")\n",
    "\n",
    "readDF.withColumn(\"value\", from_json(\"value\", schema))\\\n",
    "    .select(col('value.*'))"
   ]
  },
  {
   "cell_type": "code",
   "execution_count": null,
   "id": "266fedf8",
   "metadata": {},
   "outputs": [],
   "source": [
    "readDF.printSchema()"
   ]
  },
  {
   "cell_type": "code",
   "execution_count": null,
   "id": "dd06083e",
   "metadata": {},
   "outputs": [],
   "source": [
    "# values are like this at this point of time Struct{Zip=601,Latitude=18.18005....}\n",
    "# Seaparting the values using \",\" here\n",
    "\n",
    "newDF= readDF.withColumn(\"Summons_Number\", split(col(\"value\"), \",\").getItem(0))\\\n",
    ".withColumn(\"Plate_ID\", split(col(\"value\"), \",\").getItem(1))\\\n",
    ".withColumn(\"Registration_State\", split(col(\"value\"), \",\").getItem(2))\\\n",
    ".withColumn(\"Plate_Type\", split(col(\"value\"), \",\").getItem(3))\\\n",
    ".withColumn(\"Issue_Date\", split(col(\"value\"), \",\").getItem(4))\\\n",
    ".withColumn(\"Violation_Code\", split(col(\"value\"), \",\").getItem(5))\\\n",
    ".withColumn(\"Vehicle_Body_Type\", split(col(\"value\"), \",\").getItem(6))\\\n",
    ".withColumn(\"Vehicle_Make\", split(col(\"value\"), \",\").getItem(7))\\\n",
    ".withColumn(\"Street_Code1\", split(col(\"value\"), \",\").getItem(8))\\\n",
    ".withColumn(\"Street_Code2\", split(col(\"value\"), \",\").getItem(9))\\\n",
    ".withColumn(\"Street_Code3\", split(col(\"value\"), \",\").getItem(10))\\\n",
    ".withColumn(\"Violation_Precinct\", split(col(\"value\"), \",\").getItem(11))\\\n",
    ".withColumn(\"Issuer_Precinct\", split(col(\"value\"), \",\").getItem(12))\\\n",
    ".withColumn(\"Violation_Time\", split(col(\"value\"), \",\").getItem(13))\\\n",
    ".withColumn(\"Violation_County\", split(col(\"value\"), \",\").getItem(14))\\\n",
    ".withColumn(\"Street_Name\", split(col(\"value\"), \",\").getItem(15))\\\n",
    ".withColumn(\"Vehicle_Year\", split(col(\"value\"), \",\").getItem(16))\n"
   ]
  },
  {
   "cell_type": "code",
   "execution_count": null,
   "id": "4df5f6c3",
   "metadata": {},
   "outputs": [],
   "source": [
    "# {Summons_Number=1447171287|Plate_ID=GYU6351|Registration_State=NY|Plate_Type=PAS|Issue_Date=2019-07-03T00:00:00.000|\n",
    "# Violation_Code=20|Vehicle_Body_Type=SDN |Vehicle_Make=HONDA|Street_Code1=36050|Street_Code2=10610|Street_Code3=10810|\n",
    "# Violation_Precinct=28 |Issuer_Precinct=28 |Violation_Time=0918A|Violation_County=NY|Street_Name=W 114 ST           |\n",
    "# Vehicle_Year=2009}\n",
    "\n",
    "\n",
    "\n",
    "\n",
    "# # Separating the value using \"=\" to get the desired value\n",
    "\n",
    "DF = newDF.withColumn(\"Summons_Number\", split(col(\"Summons_Number\"), \"=\").getItem(1))\\\n",
    ".withColumn(\"Plate_ID\", split(col(\"Plate_ID\"), \"=\").getItem(1))\\\n",
    ".withColumn(\"Registration_State\", split(col(\"Registration_State\"), \"=\").getItem(1))\\\n",
    ".withColumn(\"Plate_Type\", split(col(\"Plate_Type\"), \"=\").getItem(1))\\\n",
    ".withColumn(\"Issue_Date\", split(col(\"Issue_Date\"), \"=\").getItem(1))\\\n",
    ".withColumn(\"Violation_Code\", split(col(\"Violation_Code\"), \"=\").getItem(1))\\\n",
    ".withColumn(\"Vehicle_Body_Type\", split(col(\"Vehicle_Body_Type\"), \"=\").getItem(1))\\\n",
    ".withColumn(\"Vehicle_Make\", split(col(\"Vehicle_Make\"), \"=\").getItem(1))\\\n",
    ".withColumn(\"Street_Code1\", split(col(\"Street_Code1\"), \"=\").getItem(1))\\\n",
    ".withColumn(\"Street_Code2\", split(col(\"Street_Code2\"), \"=\").getItem(1))\\\n",
    ".withColumn(\"Street_Code3\", split(col(\"Street_Code3\"), \"=\").getItem(1))\\\n",
    ".withColumn(\"Violation_Precinct\", split(col(\"Violation_Precinct\"), \"=\").getItem(1))\\\n",
    ".withColumn(\"Issuer_Precinct\", split(col(\"Issuer_Precinct\"), \"=\").getItem(1))\\\n",
    ".withColumn(\"Violation_Time\", split(col(\"Violation_Time\"), \"=\").getItem(1))\\\n",
    ".withColumn(\"Violation_County\", split(col(\"Violation_County\"), \"=\").getItem(1))\\\n",
    ".withColumn(\"Street_Name\", split(col(\"Street_Name\"), \"=\").getItem(1))\\\n",
    ".withColumn(\"Vehicle_Year\", split(col(\"Vehicle_Year\"), \"=\").getItem(1))\\\n",
    ".withColumn(\"Vehicle_Year\",split(col(\"Vehicle_Year\"),\"}\").getItem(0)) #this is bcz I was getting } at the end of each value in this column\n"
   ]
  },
  {
   "cell_type": "code",
   "execution_count": null,
   "id": "8658033b",
   "metadata": {},
   "outputs": [],
   "source": [
    "# select the columns\n",
    "# finalDF = DF.select(\"Summons_Number\",\"Plate_ID\",\"Registration_State\",\"Plate_Type\",\"Issue_Date\",\"Violation_Code\",\"Vehicle_Body_Type\",\"Vehicle_Make\",\"Street_Code1\",\"Street_Code2\",\"Street_Code3\",\"Violation_Precinct\",\"Issuer_Precinct\",\"Violation_Time\",\"Violation_County\",\"Street_Name\",\"Vehicle_Year\")"
   ]
  },
  {
   "cell_type": "code",
   "execution_count": null,
   "id": "5a6afe4f",
   "metadata": {},
   "outputs": [],
   "source": [
    "# \"Summons_Number:int64,Violation_Code:int32,Street_Code1:int32,Street_Code2:int32,\n",
    "# Street_Code3:int32,Violation_Precinct:int32,Issuer_Precinct:int32\""
   ]
  },
  {
   "cell_type": "code",
   "execution_count": null,
   "id": "3731e48b",
   "metadata": {},
   "outputs": [],
   "source": [
    "finalDF = DF.selectExpr(\"CAST(Summons_Number AS INT)\",\\\n",
    "                        \"CAST(Plate_ID AS STRING)\",\\\n",
    "                        \"CAST(Registration_State AS STRING)\",\\\n",
    "                        \"CAST(Plate_Type AS STRING)\",\\\n",
    "                        \"CAST(Issue_Date AS STRING)\",\\\n",
    "                        \"CAST(Violation_Code AS INT)\",\\\n",
    "                        \"CAST(Vehicle_Body_Type AS STRING)\",\\\n",
    "                        \"CAST(Vehicle_Make AS STRING)\",\\\n",
    "                        \"CAST(Street_Code1 AS INT)\",\"CAST(Street_Code2 AS INT)\",\"CAST(Street_Code3 AS INT)\",\\\n",
    "                        \"CAST(Violation_Precinct AS INT)\",\\\n",
    "                        \"CAST(Issuer_Precinct AS INT)\",\\\n",
    "                        \"CAST(Violation_Time AS STRING)\",\\\n",
    "                        \"CAST(Violation_County AS STRING)\",\\\n",
    "                        \"CAST(Street_Name AS STRING)\",\\\n",
    "                        \"CAST(Vehicle_Year AS INT)\")\n"
   ]
  },
  {
   "cell_type": "code",
   "execution_count": null,
   "id": "18a53261",
   "metadata": {},
   "outputs": [],
   "source": [
    "# resultDF = finalDF \\\n",
    "# .writeStream \\\n",
    "# .format(\"console\") \\\n",
    "# .outputMode(\"append\") \\\n",
    "# .option(\"checkpointLocation\", \"checkpoint/\")\\\n",
    "# .option(\"truncate\", \"false\")\\\n",
    "# .option(\"numRows\",20) \\\n",
    "# .start().awaitTermination()"
   ]
  },
  {
   "cell_type": "code",
   "execution_count": null,
   "id": "e9ec06e7",
   "metadata": {},
   "outputs": [],
   "source": [
    "# Trial run\n",
    "\n",
    "resultDF = finalDF\\\n",
    "    .writeStream\\\n",
    "    .format(\"csv\")\\\n",
    "    .option(\"format\", \"append\")\\\n",
    "    .option(\"header\",\"true\")\\\n",
    "    .option(\"startingOffsets\",\"earliest\")\\\n",
    "    .option(\"checkpointLocation\", \"checkpoint3/\")\\\n",
    "    .option(\"path\", \"kafka_csv_data/\")\\\n",
    "    .outputMode(\"append\") \\\n",
    "    .start()"
   ]
  },
  {
   "cell_type": "code",
   "execution_count": null,
   "id": "97406743",
   "metadata": {},
   "outputs": [],
   "source": []
  }
 ],
 "metadata": {
  "kernelspec": {
   "display_name": "Python 3 (ipykernel)",
   "language": "python",
   "name": "python3"
  },
  "language_info": {
   "codemirror_mode": {
    "name": "ipython",
    "version": 3
   },
   "file_extension": ".py",
   "mimetype": "text/x-python",
   "name": "python",
   "nbconvert_exporter": "python",
   "pygments_lexer": "ipython3",
   "version": "3.9.7"
  }
 },
 "nbformat": 4,
 "nbformat_minor": 5
}
